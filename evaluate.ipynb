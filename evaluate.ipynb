{
 "cells": [
  {
   "cell_type": "code",
   "execution_count": 1,
   "metadata": {},
   "outputs": [],
   "source": [
    "from transformers import T5Tokenizer, T5ForConditionalGeneration\n",
    "import torch\n",
    "from google.cloud import storage\n",
    "from io import StringIO\n",
    "import pandas as pd\n",
    "from nltk.translate.bleu_score import sentence_bleu\n",
    "from rouge_score import rouge_scorer\n",
    "import re\n",
    "import string"
   ]
  },
  {
   "cell_type": "markdown",
   "metadata": {},
   "source": [
    "# Evaluation"
   ]
  },
  {
   "cell_type": "markdown",
   "metadata": {},
   "source": [
    "## Generate Outputs"
   ]
  },
  {
   "cell_type": "markdown",
   "metadata": {},
   "source": [
    "We will first generate results on our trained T5 model using difference numbers of beams."
   ]
  },
  {
   "cell_type": "code",
   "execution_count": 2,
   "metadata": {},
   "outputs": [],
   "source": [
    "def get_df_from_gcs_blob(blob, bucket='recipe-data-bucket'):\n",
    "    # START: COPIED FROM https://github.com/googleapis/python-storage/blob/HEAD/samples/snippets/storage_fileio_write_read.py\n",
    "    storage_client = storage.Client()\n",
    "    bucket = storage_client.get_bucket(bucket)\n",
    "\n",
    "    blob = bucket.blob(blob)\n",
    "    blob = blob.download_as_string()\n",
    "    blob = blob.decode()\n",
    "    blob = StringIO(blob)  #tranform bytes to string here\n",
    "    df = pd.read_csv(blob)\n",
    "    return df\n",
    "    # END: COPIED FROM https://github.com/googleapis/python-storage/blob/HEAD/samples/snippets/storage_fileio_write_read.py"
   ]
  },
  {
   "cell_type": "code",
   "execution_count": 3,
   "metadata": {},
   "outputs": [
    {
     "name": "stderr",
     "output_type": "stream",
     "text": [
      "Special tokens have been added in the vocabulary, make sure the associated word embeddings are fine-tuned or trained.\n",
      "You are using the default legacy behaviour of the <class 'transformers.models.t5.tokenization_t5.T5Tokenizer'>. This is expected, and simply means that the `legacy` (previous) behavior will be used so nothing changes for you. If you want to use the new behaviour, set `legacy=False`. This should only be set if you understand what it means, and thouroughly read the reason why this was added as explained in https://github.com/huggingface/transformers/pull/24565\n",
      "Special tokens have been added in the vocabulary, make sure the associated word embeddings are fine-tuned or trained.\n"
     ]
    }
   ],
   "source": [
    "DEVICE = 'cuda'\n",
    "MOD_PATH = './inp_cal_ingred_cal/final'\n",
    "\n",
    "model = T5ForConditionalGeneration.from_pretrained(MOD_PATH).to(DEVICE)\n",
    "tokenizer = T5Tokenizer.from_pretrained(MOD_PATH)\n",
    "\n",
    "oob_model = T5ForConditionalGeneration.from_pretrained('t5-small').to(DEVICE)\n",
    "oob_tokenizer = T5Tokenizer.from_pretrained('t5-small')\n",
    "\n",
    "train_df = get_df_from_gcs_blob('train_only_cal.csv')\n",
    "test_df = get_df_from_gcs_blob('test_only_cal.csv')"
   ]
  },
  {
   "cell_type": "code",
   "execution_count": 4,
   "metadata": {},
   "outputs": [],
   "source": [
    "def get_output(inp, num_beams, max_len, model=model, tokenizer=tokenizer):\n",
    "    input_ids = tokenizer(inp, return_tensors=\"pt\").input_ids.to(DEVICE)\n",
    "    outputs = model.generate(input_ids, max_length=max_len, num_beams=num_beams)\n",
    "    out = tokenizer.decode(outputs[0], skip_special_tokens=True)\n",
    "    return out"
   ]
  },
  {
   "cell_type": "code",
   "execution_count": 12,
   "metadata": {},
   "outputs": [],
   "source": [
    "train_df['gen_beams1'] = train_df['input'].map(lambda x: get_output(x, 1, train_df['output'].map(len).max()))\n",
    "train_df['gen_beams2'] = train_df['input'].map(lambda x: get_output(x, 2, train_df['output'].map(len).max()))\n",
    "train_df['gen_beams3'] = train_df['input'].map(lambda x: get_output(x, 3, train_df['output'].map(len).max()))\n",
    "\n",
    "test_df['gen_beams1'] = test_df['input'].map(lambda x: get_output(x, 1, test_df['output'].map(len).max()))\n",
    "test_df['gen_beams2'] = test_df['input'].map(lambda x: get_output(x, 2, test_df['output'].map(len).max()))\n",
    "test_df['gen_beams3'] = test_df['input'].map(lambda x: get_output(x, 3, test_df['output'].map(len).max()))"
   ]
  },
  {
   "cell_type": "code",
   "execution_count": 5,
   "metadata": {},
   "outputs": [],
   "source": [
    "train_df['gen_beams1_oob'] = train_df['input'].map(lambda x: get_output(x, 1, train_df['output'].map(len).max(), model=oob_model, tokenizer=oob_tokenizer))\n",
    "train_df['gen_beams2_oob'] = train_df['input'].map(lambda x: get_output(x, 2, train_df['output'].map(len).max(), model=oob_model, tokenizer=oob_tokenizer))\n",
    "train_df['gen_beams3_oob'] = train_df['input'].map(lambda x: get_output(x, 3, train_df['output'].map(len).max(), model=oob_model, tokenizer=oob_tokenizer))\n",
    "\n",
    "test_df['gen_beams1_oob'] = test_df['input'].map(lambda x: get_output(x, 1, test_df['output'].map(len).max(), model=oob_model, tokenizer=oob_tokenizer))\n",
    "test_df['gen_beams2_oob'] = test_df['input'].map(lambda x: get_output(x, 2, test_df['output'].map(len).max(), model=oob_model, tokenizer=oob_tokenizer))\n",
    "test_df['gen_beams3_oob'] = test_df['input'].map(lambda x: get_output(x, 3, test_df['output'].map(len).max(), model=oob_model, tokenizer=oob_tokenizer))"
   ]
  },
  {
   "cell_type": "markdown",
   "metadata": {},
   "source": [
    "Now, let's append this to our results from the `GPT` baseline."
   ]
  },
  {
   "cell_type": "code",
   "execution_count": 7,
   "metadata": {},
   "outputs": [],
   "source": [
    "train_df_gpt_results = get_df_from_gcs_blob('train_only_cal_gpt_results.csv')\n",
    "test_df_gpt_results = get_df_from_gcs_blob('test_only_cal_gpt_results.csv')"
   ]
  },
  {
   "cell_type": "code",
   "execution_count": 12,
   "metadata": {},
   "outputs": [
    {
     "data": {
      "text/html": [
       "<div>\n",
       "<style scoped>\n",
       "    .dataframe tbody tr th:only-of-type {\n",
       "        vertical-align: middle;\n",
       "    }\n",
       "\n",
       "    .dataframe tbody tr th {\n",
       "        vertical-align: top;\n",
       "    }\n",
       "\n",
       "    .dataframe thead th {\n",
       "        text-align: right;\n",
       "    }\n",
       "</style>\n",
       "<table border=\"1\" class=\"dataframe\">\n",
       "  <thead>\n",
       "    <tr style=\"text-align: right;\">\n",
       "      <th></th>\n",
       "      <th>input</th>\n",
       "      <th>output_gt</th>\n",
       "      <th>output_t5_oob_b1</th>\n",
       "      <th>output_t5_oob_b2</th>\n",
       "      <th>output_t5_oob_b3</th>\n",
       "      <th>output_t5_b1</th>\n",
       "      <th>output_t5_b2</th>\n",
       "      <th>output_t5_b3</th>\n",
       "      <th>output_gpt</th>\n",
       "    </tr>\n",
       "  </thead>\n",
       "  <tbody>\n",
       "    <tr>\n",
       "      <th>0</th>\n",
       "      <td>&lt;ingredients&gt;Spanish sherry vinegar (19 calori...</td>\n",
       "      <td>&lt;title&gt;Argentine Red Sauce&lt;title&gt;&lt;ingredients&gt;...</td>\n",
       "      <td>ingredients&gt;calories&gt;2250calories&gt;2250calories...</td>\n",
       "      <td>ingredients&gt;calories&gt;2250calories&gt;2250calories...</td>\n",
       "      <td>ingredients&gt;calories&gt;2250calories&gt;2250calories...</td>\n",
       "      <td>ingredients&gt;1 tablespoon spanish sherry vinega...</td>\n",
       "      <td>Spanish sherry vinegar, virgin olive oil, papr...</td>\n",
       "      <td>Spanish sherry vinegar, virgin olive oil, papr...</td>\n",
       "      <td>&lt;title&gt;Spicy Sherry Vinegar Chicken with Papri...</td>\n",
       "    </tr>\n",
       "    <tr>\n",
       "      <th>1</th>\n",
       "      <td>&lt;ingredients&gt;mayonnaise (689 calories), basil ...</td>\n",
       "      <td>&lt;title&gt;Basil Aïoli&lt;title&gt;&lt;ingredients&gt;3/4 cup ...</td>\n",
       "      <td>), garlic (144 calories), lemon peel (2 calori...</td>\n",
       "      <td>), basil (24 calories), lemon juice (16 calori...</td>\n",
       "      <td>), basil (24 calories), lemon juice (16 calori...</td>\n",
       "      <td>I use 1 tablespoon of basil, 1 tablespoon of l...</td>\n",
       "      <td>1-2 hours mayonnaise, 2 tablespoons basil, 1 t...</td>\n",
       "      <td>6 ounces mayonnaise, 2 tablespoons basil, 1 ta...</td>\n",
       "      <td>&lt;title&gt;Creamy Lemon Basil Pasta with Grilled C...</td>\n",
       "    </tr>\n",
       "    <tr>\n",
       "      <th>2</th>\n",
       "      <td>&lt;ingredients&gt;vanilla bean (296 calories), appl...</td>\n",
       "      <td>&lt;title&gt;Cider Sauce&lt;title&gt;&lt;ingredients&gt;1 vanill...</td>\n",
       "      <td>calories&gt;1360calories&gt;1360calories&gt;1360calorie...</td>\n",
       "      <td>calories&gt;1360calories&gt;1360calories&gt;1360calorie...</td>\n",
       "      <td>vanilla bean (296 calories), apple (96 calorie...</td>\n",
       "      <td>vanilla bean, apple, ed apple cider, ted butte...</td>\n",
       "      <td>vanilla bean, apple, ed apple cider, ted butte...</td>\n",
       "      <td>vanilla bean, apple, ed apple cider, ted butte...</td>\n",
       "      <td>&lt;title&gt;Vanilla-Apple Cider Cake with Browned B...</td>\n",
       "    </tr>\n",
       "    <tr>\n",
       "      <th>3</th>\n",
       "      <td>&lt;ingredients&gt;olive oil (869 calories), lime ju...</td>\n",
       "      <td>&lt;title&gt;Mojo Sauce&lt;title&gt;&lt;ingredients&gt;1 cup oli...</td>\n",
       "      <td>calories&gt;1861calories&gt;1861calories&gt;1861calorie...</td>\n",
       "      <td>(24 calories), orange juice (46 calories), cil...</td>\n",
       "      <td>ingredients&gt;olive oil (869 calories), lime jui...</td>\n",
       "      <td>1 tablespoon olive oil, 1 tablespoon lime juic...</td>\n",
       "      <td>olive oil, lime juice, orange juice, cilantro,...</td>\n",
       "      <td>olive oil, lime juice, orange juice, cilantro,...</td>\n",
       "      <td>&lt;title&gt;Citrus-Marinated Grilled Shrimp with Ci...</td>\n",
       "    </tr>\n",
       "    <tr>\n",
       "      <th>4</th>\n",
       "      <td>&lt;ingredients&gt;brandy (228 calories), crème de c...</td>\n",
       "      <td>&lt;title&gt;Brandy Alexander Ii&lt;title&gt;&lt;ingredients&gt;...</td>\n",
       "      <td>(406 calories), heavy cream (348 calories), nu...</td>\n",
       "      <td>(406 calories), heavy cream (348 calories), nu...</td>\n",
       "      <td>(406 calories), heavy cream (348 calories), nu...</td>\n",
       "      <td>Brandy, crème de cacao, heavy cream, nutmeging...</td>\n",
       "      <td>Brandy, crème de cacao, heavy cream, nutmeging...</td>\n",
       "      <td>Brandy, crème de cacao, heavy cream, nutmeging...</td>\n",
       "      <td>&lt;title&gt;Nutmeg Brandy Cream Delight&lt;title&gt;&lt;ingr...</td>\n",
       "    </tr>\n",
       "  </tbody>\n",
       "</table>\n",
       "</div>"
      ],
      "text/plain": [
       "                                               input  \\\n",
       "0  <ingredients>Spanish sherry vinegar (19 calori...   \n",
       "1  <ingredients>mayonnaise (689 calories), basil ...   \n",
       "2  <ingredients>vanilla bean (296 calories), appl...   \n",
       "3  <ingredients>olive oil (869 calories), lime ju...   \n",
       "4  <ingredients>brandy (228 calories), crème de c...   \n",
       "\n",
       "                                           output_gt  \\\n",
       "0  <title>Argentine Red Sauce<title><ingredients>...   \n",
       "1  <title>Basil Aïoli<title><ingredients>3/4 cup ...   \n",
       "2  <title>Cider Sauce<title><ingredients>1 vanill...   \n",
       "3  <title>Mojo Sauce<title><ingredients>1 cup oli...   \n",
       "4  <title>Brandy Alexander Ii<title><ingredients>...   \n",
       "\n",
       "                                    output_t5_oob_b1  \\\n",
       "0  ingredients>calories>2250calories>2250calories...   \n",
       "1  ), garlic (144 calories), lemon peel (2 calori...   \n",
       "2  calories>1360calories>1360calories>1360calorie...   \n",
       "3  calories>1861calories>1861calories>1861calorie...   \n",
       "4  (406 calories), heavy cream (348 calories), nu...   \n",
       "\n",
       "                                    output_t5_oob_b2  \\\n",
       "0  ingredients>calories>2250calories>2250calories...   \n",
       "1  ), basil (24 calories), lemon juice (16 calori...   \n",
       "2  calories>1360calories>1360calories>1360calorie...   \n",
       "3  (24 calories), orange juice (46 calories), cil...   \n",
       "4  (406 calories), heavy cream (348 calories), nu...   \n",
       "\n",
       "                                    output_t5_oob_b3  \\\n",
       "0  ingredients>calories>2250calories>2250calories...   \n",
       "1  ), basil (24 calories), lemon juice (16 calori...   \n",
       "2  vanilla bean (296 calories), apple (96 calorie...   \n",
       "3  ingredients>olive oil (869 calories), lime jui...   \n",
       "4  (406 calories), heavy cream (348 calories), nu...   \n",
       "\n",
       "                                        output_t5_b1  \\\n",
       "0  ingredients>1 tablespoon spanish sherry vinega...   \n",
       "1  I use 1 tablespoon of basil, 1 tablespoon of l...   \n",
       "2  vanilla bean, apple, ed apple cider, ted butte...   \n",
       "3  1 tablespoon olive oil, 1 tablespoon lime juic...   \n",
       "4  Brandy, crème de cacao, heavy cream, nutmeging...   \n",
       "\n",
       "                                        output_t5_b2  \\\n",
       "0  Spanish sherry vinegar, virgin olive oil, papr...   \n",
       "1  1-2 hours mayonnaise, 2 tablespoons basil, 1 t...   \n",
       "2  vanilla bean, apple, ed apple cider, ted butte...   \n",
       "3  olive oil, lime juice, orange juice, cilantro,...   \n",
       "4  Brandy, crème de cacao, heavy cream, nutmeging...   \n",
       "\n",
       "                                        output_t5_b3  \\\n",
       "0  Spanish sherry vinegar, virgin olive oil, papr...   \n",
       "1  6 ounces mayonnaise, 2 tablespoons basil, 1 ta...   \n",
       "2  vanilla bean, apple, ed apple cider, ted butte...   \n",
       "3  olive oil, lime juice, orange juice, cilantro,...   \n",
       "4  Brandy, crème de cacao, heavy cream, nutmeging...   \n",
       "\n",
       "                                          output_gpt  \n",
       "0  <title>Spicy Sherry Vinegar Chicken with Papri...  \n",
       "1  <title>Creamy Lemon Basil Pasta with Grilled C...  \n",
       "2  <title>Vanilla-Apple Cider Cake with Browned B...  \n",
       "3  <title>Citrus-Marinated Grilled Shrimp with Ci...  \n",
       "4  <title>Nutmeg Brandy Cream Delight<title><ingr...  "
      ]
     },
     "execution_count": 12,
     "metadata": {},
     "output_type": "execute_result"
    }
   ],
   "source": [
    "train_df['output_gpt'] = train_df_gpt_results['gpt_out_formatted']\n",
    "train_df = train_df.rename(columns={'output': 'output_gt', 'gen_beams1': 'output_t5_b1', 'gen_beams2': 'output_t5_b2', 'gen_beams3': 'output_t5_b3', 'gen_beams1_oob': 'output_t5_oob_b1', 'gen_beams2_oob': 'output_t5_oob_b2', 'gen_beams3_oob': 'output_t5_oob_b3'})\n",
    "\n",
    "# upload to GCS\n",
    "storage_client = storage.Client()\n",
    "bucket = storage_client.get_bucket('recipe-data-bucket')\n",
    "blob = bucket.blob('train_only_cal_final_results.csv')\n",
    "csv_buffer = StringIO()\n",
    "train_df.to_csv(csv_buffer, index=False)\n",
    "blob.upload_from_string(csv_buffer.getvalue())\n",
    "\n",
    "train_df.head()"
   ]
  },
  {
   "cell_type": "code",
   "execution_count": 16,
   "metadata": {},
   "outputs": [
    {
     "data": {
      "text/html": [
       "<div>\n",
       "<style scoped>\n",
       "    .dataframe tbody tr th:only-of-type {\n",
       "        vertical-align: middle;\n",
       "    }\n",
       "\n",
       "    .dataframe tbody tr th {\n",
       "        vertical-align: top;\n",
       "    }\n",
       "\n",
       "    .dataframe thead th {\n",
       "        text-align: right;\n",
       "    }\n",
       "</style>\n",
       "<table border=\"1\" class=\"dataframe\">\n",
       "  <thead>\n",
       "    <tr style=\"text-align: right;\">\n",
       "      <th></th>\n",
       "      <th>input</th>\n",
       "      <th>output_gt</th>\n",
       "      <th>output_t5_oob_b1</th>\n",
       "      <th>output_t5_oob_b2</th>\n",
       "      <th>output_t5_oob_b3</th>\n",
       "      <th>output_t5_b1</th>\n",
       "      <th>output_t5_b2</th>\n",
       "      <th>output_t5_b3</th>\n",
       "      <th>output_gpt</th>\n",
       "    </tr>\n",
       "  </thead>\n",
       "  <tbody>\n",
       "    <tr>\n",
       "      <th>0</th>\n",
       "      <td>&lt;ingredients&gt;pecan halves (707 calories), ted ...</td>\n",
       "      <td>&lt;title&gt;Sea Salt-Roasted Pecans&lt;title&gt;&lt;ingredie...</td>\n",
       "      <td>), sea salt (0 calories)ingredients&gt;1428calori...</td>\n",
       "      <td>), sea salt (0 calories)ingredients&gt;1428calori...</td>\n",
       "      <td>), sea salt (0 calories)ingredients&gt;1428calori...</td>\n",
       "      <td>Pecan halves, ted butter, sea saltingredients&gt;...</td>\n",
       "      <td>Pecan halves, ted butter, sea saltingredients&gt;...</td>\n",
       "      <td>Pecan halves, ted butter, sea saltingredients&gt;...</td>\n",
       "      <td>&lt;title&gt;Salted Pecan Butter&lt;title&gt;&lt;ingredients&gt;...</td>\n",
       "    </tr>\n",
       "    <tr>\n",
       "      <th>1</th>\n",
       "      <td>&lt;ingredients&gt;olive oil (869 calories), red cab...</td>\n",
       "      <td>&lt;title&gt;Red Cabbage And Onions&lt;title&gt;&lt;ingredien...</td>\n",
       "      <td>calories&gt;1286calories&gt;1286calories&gt;1286calorie...</td>\n",
       "      <td>ingredients&gt;olive oil (869 calories), red cabb...</td>\n",
       "      <td>ingredients&gt;olive oil (869 calories), red cabb...</td>\n",
       "      <td>olive oil, red cabbage, red onions, thymeingre...</td>\n",
       "      <td>olive oil, red cabbage, red onions, thymeingre...</td>\n",
       "      <td>olive oil, red cabbage, red onions, thymeingre...</td>\n",
       "      <td>&lt;title&gt;Sautéed Red Cabbage with Caramelized Re...</td>\n",
       "    </tr>\n",
       "    <tr>\n",
       "      <th>2</th>\n",
       "      <td>&lt;ingredients&gt;chocolate (540 calories), sugar (...</td>\n",
       "      <td>&lt;title&gt;Chocolate Almond Butter&lt;title&gt;&lt;ingredie...</td>\n",
       "      <td>ingredients&gt;chocolate (540 calories), sugar (1...</td>\n",
       "      <td>ingredients&gt;chocolate (540 calories), sugar (1...</td>\n",
       "      <td>ingredients&gt;chocolate (540 calories), sugar (1...</td>\n",
       "      <td>Chocolate, Sugar, Amaretto, ted butteringredie...</td>\n",
       "      <td>Chocolate, Sugar, Amaretto, ted butteringredie...</td>\n",
       "      <td>Chocolate, Sugar, Amaretto, ted butteringredie...</td>\n",
       "      <td>&lt;title&gt;Chocolate Amaretto Truffles&lt;title&gt;&lt;ingr...</td>\n",
       "    </tr>\n",
       "    <tr>\n",
       "      <th>3</th>\n",
       "      <td>&lt;ingredients&gt;milk (51 calories), yellow corn m...</td>\n",
       "      <td>&lt;title&gt;Old-Fashioned Indian Pudding&lt;title&gt;&lt;ing...</td>\n",
       "      <td>), salt (0 calories), molasses (287 calories)i...</td>\n",
       "      <td>), salt (0 calories), molasses (287 calories)i...</td>\n",
       "      <td>), salt (0 calories), molasses (287 calories)i...</td>\n",
       "      <td>1 cup yellow corn meal, 1 cup salt, 2 tablespo...</td>\n",
       "      <td>1 cup yellow corn meal, 1 cup salt, 2 tablespo...</td>\n",
       "      <td>1 cup yellow corn meal, 1 cup salt, 2 tablespo...</td>\n",
       "      <td>&lt;title&gt;Cornmeal Porridge with Molasses&lt;title&gt;&lt;...</td>\n",
       "    </tr>\n",
       "    <tr>\n",
       "      <th>4</th>\n",
       "      <td>&lt;ingredients&gt;vodka (235 calories), lime juice ...</td>\n",
       "      <td>&lt;title&gt;Kamikaze&lt;title&gt;&lt;ingredients&gt;2 ounces vo...</td>\n",
       "      <td>), triple sec (270 calories)ingredients&gt;calori...</td>\n",
       "      <td>), triple sec (270 calories)ingredients&gt;519cal...</td>\n",
       "      <td>), triple sec (270 calories)ingredients&gt;519cal...</td>\n",
       "      <td>vodka, lime juice, triple sec (270 calories)in...</td>\n",
       "      <td>vodka, lime juice, triple sec (270 calories)in...</td>\n",
       "      <td>vodka, lime juice, triple sec (270 calories)in...</td>\n",
       "      <td>&lt;title&gt;Vodka Lime Cooler\\n\\nServings: 1\\nCalor...</td>\n",
       "    </tr>\n",
       "  </tbody>\n",
       "</table>\n",
       "</div>"
      ],
      "text/plain": [
       "                                               input  \\\n",
       "0  <ingredients>pecan halves (707 calories), ted ...   \n",
       "1  <ingredients>olive oil (869 calories), red cab...   \n",
       "2  <ingredients>chocolate (540 calories), sugar (...   \n",
       "3  <ingredients>milk (51 calories), yellow corn m...   \n",
       "4  <ingredients>vodka (235 calories), lime juice ...   \n",
       "\n",
       "                                           output_gt  \\\n",
       "0  <title>Sea Salt-Roasted Pecans<title><ingredie...   \n",
       "1  <title>Red Cabbage And Onions<title><ingredien...   \n",
       "2  <title>Chocolate Almond Butter<title><ingredie...   \n",
       "3  <title>Old-Fashioned Indian Pudding<title><ing...   \n",
       "4  <title>Kamikaze<title><ingredients>2 ounces vo...   \n",
       "\n",
       "                                    output_t5_oob_b1  \\\n",
       "0  ), sea salt (0 calories)ingredients>1428calori...   \n",
       "1  calories>1286calories>1286calories>1286calorie...   \n",
       "2  ingredients>chocolate (540 calories), sugar (1...   \n",
       "3  ), salt (0 calories), molasses (287 calories)i...   \n",
       "4  ), triple sec (270 calories)ingredients>calori...   \n",
       "\n",
       "                                    output_t5_oob_b2  \\\n",
       "0  ), sea salt (0 calories)ingredients>1428calori...   \n",
       "1  ingredients>olive oil (869 calories), red cabb...   \n",
       "2  ingredients>chocolate (540 calories), sugar (1...   \n",
       "3  ), salt (0 calories), molasses (287 calories)i...   \n",
       "4  ), triple sec (270 calories)ingredients>519cal...   \n",
       "\n",
       "                                    output_t5_oob_b3  \\\n",
       "0  ), sea salt (0 calories)ingredients>1428calori...   \n",
       "1  ingredients>olive oil (869 calories), red cabb...   \n",
       "2  ingredients>chocolate (540 calories), sugar (1...   \n",
       "3  ), salt (0 calories), molasses (287 calories)i...   \n",
       "4  ), triple sec (270 calories)ingredients>519cal...   \n",
       "\n",
       "                                        output_t5_b1  \\\n",
       "0  Pecan halves, ted butter, sea saltingredients>...   \n",
       "1  olive oil, red cabbage, red onions, thymeingre...   \n",
       "2  Chocolate, Sugar, Amaretto, ted butteringredie...   \n",
       "3  1 cup yellow corn meal, 1 cup salt, 2 tablespo...   \n",
       "4  vodka, lime juice, triple sec (270 calories)in...   \n",
       "\n",
       "                                        output_t5_b2  \\\n",
       "0  Pecan halves, ted butter, sea saltingredients>...   \n",
       "1  olive oil, red cabbage, red onions, thymeingre...   \n",
       "2  Chocolate, Sugar, Amaretto, ted butteringredie...   \n",
       "3  1 cup yellow corn meal, 1 cup salt, 2 tablespo...   \n",
       "4  vodka, lime juice, triple sec (270 calories)in...   \n",
       "\n",
       "                                        output_t5_b3  \\\n",
       "0  Pecan halves, ted butter, sea saltingredients>...   \n",
       "1  olive oil, red cabbage, red onions, thymeingre...   \n",
       "2  Chocolate, Sugar, Amaretto, ted butteringredie...   \n",
       "3  1 cup yellow corn meal, 1 cup salt, 2 tablespo...   \n",
       "4  vodka, lime juice, triple sec (270 calories)in...   \n",
       "\n",
       "                                          output_gpt  \n",
       "0  <title>Salted Pecan Butter<title><ingredients>...  \n",
       "1  <title>Sautéed Red Cabbage with Caramelized Re...  \n",
       "2  <title>Chocolate Amaretto Truffles<title><ingr...  \n",
       "3  <title>Cornmeal Porridge with Molasses<title><...  \n",
       "4  <title>Vodka Lime Cooler\\n\\nServings: 1\\nCalor...  "
      ]
     },
     "execution_count": 16,
     "metadata": {},
     "output_type": "execute_result"
    }
   ],
   "source": [
    "test_df['output_gpt'] = test_df_gpt_results['gpt_out_formatted']\n",
    "test_df = test_df.rename(columns={'output': 'output_gt', 'gen_beams1': 'output_t5_b1', 'gen_beams2': 'output_t5_b2', 'gen_beams3': 'output_t5_b3', 'gen_beams1_oob': 'output_t5_oob_b1', 'gen_beams2_oob': 'output_t5_oob_b2', 'gen_beams3_oob': 'output_t5_oob_b3'})\n",
    "\n",
    "# upload to GCS\n",
    "storage_client = storage.Client()\n",
    "bucket = storage_client.get_bucket('recipe-data-bucket')\n",
    "\n",
    "blob = bucket.blob('test_only_cal_final_results.csv')\n",
    "\n",
    "csv_buffer = StringIO()\n",
    "test_df.to_csv(csv_buffer, index=False)\n",
    "blob.upload_from_string(csv_buffer.getvalue())\n",
    "\n",
    "test_df.head()"
   ]
  },
  {
   "cell_type": "markdown",
   "metadata": {},
   "source": [
    "## BLEU"
   ]
  },
  {
   "cell_type": "markdown",
   "metadata": {},
   "source": [
    "Now, let's compute BLEU scores of each model on train set and test set."
   ]
  },
  {
   "cell_type": "code",
   "execution_count": 17,
   "metadata": {},
   "outputs": [],
   "source": [
    "def compute_bleu(target, pred):\n",
    "    if type(pred) != str: return 0\n",
    "    target = re.sub('<title>', '', target)\n",
    "    target = re.sub('<ingredients>', '', target)\n",
    "    target = re.sub('<directions>', '', target)\n",
    "    target = re.sub(r\"[<>,.;@#?!&$]+\", ' ', target)\n",
    "    target = [target.split()]\n",
    "\n",
    "    pred = re.sub(r'[<]?title[>]?', '', pred)\n",
    "    pred = re.sub(r'[<]?ingredients[>]?', '', pred)\n",
    "    pred = re.sub(r'[<]?directions[>]?', '', pred)\n",
    "    pred = re.sub(r\"[<>,.;@#?!&$]+\", ' ', pred)\n",
    "    pred = pred.split()\n",
    "\n",
    "    return sentence_bleu(target, pred)"
   ]
  },
  {
   "cell_type": "code",
   "execution_count": 29,
   "metadata": {},
   "outputs": [
    {
     "name": "stderr",
     "output_type": "stream",
     "text": [
      "/opt/conda/lib/python3.10/site-packages/nltk/translate/bleu_score.py:552: UserWarning: \n",
      "The hypothesis contains 0 counts of 4-gram overlaps.\n",
      "Therefore the BLEU score evaluates to 0, independently of\n",
      "how many N-gram overlaps of lower order it contains.\n",
      "Consider using lower n-gram order or use SmoothingFunction()\n",
      "  warnings.warn(_msg)\n",
      "/opt/conda/lib/python3.10/site-packages/nltk/translate/bleu_score.py:552: UserWarning: \n",
      "The hypothesis contains 0 counts of 3-gram overlaps.\n",
      "Therefore the BLEU score evaluates to 0, independently of\n",
      "how many N-gram overlaps of lower order it contains.\n",
      "Consider using lower n-gram order or use SmoothingFunction()\n",
      "  warnings.warn(_msg)\n",
      "/opt/conda/lib/python3.10/site-packages/nltk/translate/bleu_score.py:552: UserWarning: \n",
      "The hypothesis contains 0 counts of 2-gram overlaps.\n",
      "Therefore the BLEU score evaluates to 0, independently of\n",
      "how many N-gram overlaps of lower order it contains.\n",
      "Consider using lower n-gram order or use SmoothingFunction()\n",
      "  warnings.warn(_msg)\n"
     ]
    },
    {
     "name": "stdout",
     "output_type": "stream",
     "text": [
      "Train BLEU Fine-Tuned T5 1 Beam: 0.0377206472850098\n",
      "Train BLEU Fine-Tuned T5 2 Beams: 0.041059883217307296\n",
      "Train BLEU Fine-Tuned T5 3 Beams: 0.04025010761502282\n",
      "Train BLEU OOB T5 1 Beam: 0.0003713024583506109\n",
      "Train BLEU OOB T5 2 Beams: 0.0004570537716064423\n",
      "Train BLEU OOB T5 3 Beams: 0.0005293131735996155\n",
      "Train BLEU GPT 3.5 Turbo: 0.0224524978018088\n"
     ]
    }
   ],
   "source": [
    "print(f\"Train BLEU Fine-Tuned T5 1 Beam: {train_df.apply(lambda x: compute_bleu(x['output_gt'], x['output_t5_b1']), axis=1).mean()}\")\n",
    "print(f\"Train BLEU Fine-Tuned T5 2 Beams: {train_df.apply(lambda x: compute_bleu(x['output_gt'], x['output_t5_b2']), axis=1).mean()}\")\n",
    "print(f\"Train BLEU Fine-Tuned T5 3 Beams: {train_df.apply(lambda x: compute_bleu(x['output_gt'], x['output_t5_b3']), axis=1).mean()}\")\n",
    "\n",
    "print(f\"Train BLEU OOB T5 1 Beam: {train_df.apply(lambda x: compute_bleu(x['output_gt'], x['output_t5_oob_b1']), axis=1).mean()}\")\n",
    "print(f\"Train BLEU OOB T5 2 Beams: {train_df.apply(lambda x: compute_bleu(x['output_gt'], x['output_t5_oob_b2']), axis=1).mean()}\")\n",
    "print(f\"Train BLEU OOB T5 3 Beams: {train_df.apply(lambda x: compute_bleu(x['output_gt'], x['output_t5_oob_b3']), axis=1).mean()}\")\n",
    "\n",
    "print(f\"Train BLEU GPT 3.5 Turbo: {train_df.apply(lambda x: compute_bleu(x['output_gt'], x['output_gpt']), axis=1).mean()}\")"
   ]
  },
  {
   "cell_type": "code",
   "execution_count": 30,
   "metadata": {},
   "outputs": [
    {
     "name": "stdout",
     "output_type": "stream",
     "text": [
      "Test BLEU Fine-Tuned T5 1 Beam: 0.039166296968198344\n",
      "Test BLEU Fine-Tuned T5 2 Beams: 0.04118350854708197\n",
      "Test BLEU Fine-Tuned T5 3 Beams: 0.042099379393260555\n",
      "Test BLEU OOB T5 1 Beam: 0.00041829887518731715\n",
      "Test BLEU OOB T5 2 Beams: 0.0006481759741706717\n",
      "Test BLEU OOB T5 3 Beams: 0.0006215952939715139\n",
      "Test BLEU GPT 3.5 Turbo: 0.023625313134378906\n"
     ]
    }
   ],
   "source": [
    "print(f\"Test BLEU Fine-Tuned T5 1 Beam: {test_df.apply(lambda x: compute_bleu(x['output_gt'], x['output_t5_b1']), axis=1).mean()}\")\n",
    "print(f\"Test BLEU Fine-Tuned T5 2 Beams: {test_df.apply(lambda x: compute_bleu(x['output_gt'], x['output_t5_b2']), axis=1).mean()}\")\n",
    "print(f\"Test BLEU Fine-Tuned T5 3 Beams: {test_df.apply(lambda x: compute_bleu(x['output_gt'], x['output_t5_b3']), axis=1).mean()}\")\n",
    "\n",
    "print(f\"Test BLEU OOB T5 1 Beam: {test_df.apply(lambda x: compute_bleu(x['output_gt'], x['output_t5_oob_b1']), axis=1).mean()}\")\n",
    "print(f\"Test BLEU OOB T5 2 Beams: {test_df.apply(lambda x: compute_bleu(x['output_gt'], x['output_t5_oob_b2']), axis=1).mean()}\")\n",
    "print(f\"Test BLEU OOB T5 3 Beams: {test_df.apply(lambda x: compute_bleu(x['output_gt'], x['output_t5_oob_b3']), axis=1).mean()}\")\n",
    "\n",
    "print(f\"Test BLEU GPT 3.5 Turbo: {test_df.apply(lambda x: compute_bleu(x['output_gt'], x['output_gpt']), axis=1).mean()}\")"
   ]
  },
  {
   "cell_type": "markdown",
   "metadata": {},
   "source": [
    "## ROUGE"
   ]
  },
  {
   "cell_type": "markdown",
   "metadata": {},
   "source": [
    "Let's compute ROUGE scores on train set and test set."
   ]
  },
  {
   "cell_type": "code",
   "execution_count": 19,
   "metadata": {},
   "outputs": [],
   "source": [
    "scorer = rouge_scorer.RougeScorer(['rouge1', 'rouge2', 'rougeL'], use_stemmer=True)\n",
    "\n",
    "def compute_rogue(target, pred, scorer=scorer):\n",
    "    if type(pred) != str: return {key: 0 for key in scorer.rouge_types} \n",
    "    scores = scorer.score(target, pred)\n",
    "    return {key: scores[key].fmeasure for key in scores}\n"
   ]
  },
  {
   "cell_type": "code",
   "execution_count": 31,
   "metadata": {},
   "outputs": [
    {
     "name": "stdout",
     "output_type": "stream",
     "text": [
      "Train ROUGE-1 Fine-Tuned T5 1 Beam: 0.3828935973634431\n",
      "Train ROUGE-2 Fine-Tuned T5 1 Beam: 0.1355646813729195\n",
      "Train ROUGE-N Fine-Tuned T5 1 Beam: 0.29665207741626554\n",
      "Train ROUGE-1 Fine-Tuned T5 2 Beams: 0.3828813613723136\n",
      "Train ROUGE-2 Fine-Tuned T5 2 Beams: 0.13648591808749316\n",
      "Train ROUGE-N Fine-Tuned T5 2 Beams: 0.2975619283984136\n",
      "Train ROUGE-1 Fine-Tuned T5 3 Beams: 0.37269723081940703\n",
      "Train ROUGE-2 Fine-Tuned T5 3 Beams: 0.13361982130056063\n",
      "Train ROUGE-N Fine-Tuned T5 3 Beams: 0.2909881027237875\n",
      "Train ROUGE-1 OOB T5 1 Beam: 0.13902773564446413\n",
      "Train ROUGE-2 OOB T5 1 Beam: 0.044143361496976195\n",
      "Train ROUGE-N OOB T5 1 Beam: 0.13286119135584668\n",
      "Train ROUGE-1 OOB T5 2 Beams: 0.16700907476867188\n",
      "Train ROUGE-2 OOB T5 2 Beams: 0.05204422922917151\n",
      "Train ROUGE-N OOB T5 2 Beams: 0.1589939229655112\n",
      "Train ROUGE-1 OOB T5 3 Beams: 0.1802496406460773\n",
      "Train ROUGE-2 OOB T5 3 Beams: 0.055393240622588845\n",
      "Train ROUGE-N OOB T5 3 Beams: 0.17132130752898742\n",
      "Train ROUGE-1 GPT 3.5 Turbo: 0.35583426819073904\n",
      "Train ROUGE-2 GPT 3.5 Turbo: 0.11781631956410836\n",
      "Train ROUGE-N GPT 3.5 Turbo: 0.24581562847159188\n"
     ]
    }
   ],
   "source": [
    "rouge_summary = train_df.apply(lambda x: compute_rogue(x['output_gt'], x['output_t5_b1']), axis=1, result_type='expand').mean()\n",
    "print(f\"Train ROUGE-1 Fine-Tuned T5 1 Beam: {rouge_summary['rouge1'].mean()}\")\n",
    "print(f\"Train ROUGE-2 Fine-Tuned T5 1 Beam: {rouge_summary['rouge2'].mean()}\")\n",
    "print(f\"Train ROUGE-N Fine-Tuned T5 1 Beam: {rouge_summary['rougeL'].mean()}\")\n",
    "\n",
    "rouge_summary = train_df.apply(lambda x: compute_rogue(x['output_gt'], x['output_t5_b2']), axis=1, result_type='expand').mean()\n",
    "print(f\"Train ROUGE-1 Fine-Tuned T5 2 Beams: {rouge_summary['rouge1'].mean()}\")\n",
    "print(f\"Train ROUGE-2 Fine-Tuned T5 2 Beams: {rouge_summary['rouge2'].mean()}\")\n",
    "print(f\"Train ROUGE-N Fine-Tuned T5 2 Beams: {rouge_summary['rougeL'].mean()}\")\n",
    "\n",
    "rouge_summary = train_df.apply(lambda x: compute_rogue(x['output_gt'], x['output_t5_b3']), axis=1, result_type='expand').mean()\n",
    "print(f\"Train ROUGE-1 Fine-Tuned T5 3 Beams: {rouge_summary['rouge1'].mean()}\")\n",
    "print(f\"Train ROUGE-2 Fine-Tuned T5 3 Beams: {rouge_summary['rouge2'].mean()}\")\n",
    "print(f\"Train ROUGE-N Fine-Tuned T5 3 Beams: {rouge_summary['rougeL'].mean()}\")\n",
    "\n",
    "rouge_summary = train_df.apply(lambda x: compute_rogue(x['output_gt'], x['output_t5_oob_b1']), axis=1, result_type='expand').mean()\n",
    "print(f\"Train ROUGE-1 OOB T5 1 Beam: {rouge_summary['rouge1'].mean()}\")\n",
    "print(f\"Train ROUGE-2 OOB T5 1 Beam: {rouge_summary['rouge2'].mean()}\")\n",
    "print(f\"Train ROUGE-N OOB T5 1 Beam: {rouge_summary['rougeL'].mean()}\")\n",
    "\n",
    "rouge_summary = train_df.apply(lambda x: compute_rogue(x['output_gt'], x['output_t5_oob_b2']), axis=1, result_type='expand').mean()\n",
    "print(f\"Train ROUGE-1 OOB T5 2 Beams: {rouge_summary['rouge1'].mean()}\")\n",
    "print(f\"Train ROUGE-2 OOB T5 2 Beams: {rouge_summary['rouge2'].mean()}\")\n",
    "print(f\"Train ROUGE-N OOB T5 2 Beams: {rouge_summary['rougeL'].mean()}\")\n",
    "\n",
    "rouge_summary = train_df.apply(lambda x: compute_rogue(x['output_gt'], x['output_t5_oob_b3']), axis=1, result_type='expand').mean()\n",
    "print(f\"Train ROUGE-1 OOB T5 3 Beams: {rouge_summary['rouge1'].mean()}\")\n",
    "print(f\"Train ROUGE-2 OOB T5 3 Beams: {rouge_summary['rouge2'].mean()}\")\n",
    "print(f\"Train ROUGE-N OOB T5 3 Beams: {rouge_summary['rougeL'].mean()}\")\n",
    "\n",
    "\n",
    "rouge_summary = train_df.apply(lambda x: compute_rogue(x['output_gt'], x['output_gpt']), axis=1, result_type='expand').mean()\n",
    "print(f\"Train ROUGE-1 GPT 3.5 Turbo: {rouge_summary['rouge1'].mean()}\")\n",
    "print(f\"Train ROUGE-2 GPT 3.5 Turbo: {rouge_summary['rouge2'].mean()}\")\n",
    "print(f\"Train ROUGE-N GPT 3.5 Turbo: {rouge_summary['rougeL'].mean()}\")"
   ]
  },
  {
   "cell_type": "code",
   "execution_count": 32,
   "metadata": {},
   "outputs": [
    {
     "name": "stdout",
     "output_type": "stream",
     "text": [
      "Test ROUGE-1 Fine-Tuned T5 1 Beam: 0.38109328892877126\n",
      "Test ROUGE-2 Fine-Tuned T5 1 Beam: 0.1373375837581973\n",
      "Test ROUGE-N Fine-Tuned T5 1 Beam: 0.2964796316350115\n",
      "Test ROUGE-1 Fine-Tuned T5 2 Beams: 0.38419610127429965\n",
      "Test ROUGE-2 Fine-Tuned T5 2 Beams: 0.13911496231998474\n",
      "Test ROUGE-N Fine-Tuned T5 2 Beams: 0.3010770935950453\n",
      "Test ROUGE-1 Fine-Tuned T5 3 Beams: 0.37522020029991804\n",
      "Test ROUGE-2 Fine-Tuned T5 3 Beams: 0.13689206583040714\n",
      "Test ROUGE-N Fine-Tuned T5 3 Beams: 0.2941924512420922\n",
      "Test ROUGE-1 OOB T5 1 Beam: 0.14063006779187417\n",
      "Test ROUGE-2 OOB T5 1 Beam: 0.04421440654267187\n",
      "Test ROUGE-N OOB T5 1 Beam: 0.1353385159250876\n",
      "Test ROUGE-1 OOB T5 2 Beams: 0.1681159564346114\n",
      "Test ROUGE-2 OOB T5 2 Beams: 0.05226845251931622\n",
      "Test ROUGE-N OOB T5 2 Beams: 0.16085107172239202\n",
      "Test ROUGE-1 OOB T5 3 Beams: 0.18153840293691165\n",
      "Test ROUGE-2 OOB T5 3 Beams: 0.055981415742911364\n",
      "Test ROUGE-N OOB T5 3 Beams: 0.1728848525490866\n",
      "Test ROUGE-1 GPT 3.5 Turbo: 0.3516726324297726\n",
      "Test ROUGE-2 GPT 3.5 Turbo: 0.11820512163850799\n",
      "Test ROUGE-N GPT 3.5 Turbo: 0.24476723258103283\n"
     ]
    }
   ],
   "source": [
    "rouge_summary = test_df.apply(lambda x: compute_rogue(x['output_gt'], x['output_t5_b1']), axis=1, result_type='expand').mean()\n",
    "print(f\"Test ROUGE-1 Fine-Tuned T5 1 Beam: {rouge_summary['rouge1'].mean()}\")\n",
    "print(f\"Test ROUGE-2 Fine-Tuned T5 1 Beam: {rouge_summary['rouge2'].mean()}\")\n",
    "print(f\"Test ROUGE-N Fine-Tuned T5 1 Beam: {rouge_summary['rougeL'].mean()}\")\n",
    "\n",
    "rouge_summary = test_df.apply(lambda x: compute_rogue(x['output_gt'], x['output_t5_b2']), axis=1, result_type='expand').mean()\n",
    "print(f\"Test ROUGE-1 Fine-Tuned T5 2 Beams: {rouge_summary['rouge1'].mean()}\")\n",
    "print(f\"Test ROUGE-2 Fine-Tuned T5 2 Beams: {rouge_summary['rouge2'].mean()}\")\n",
    "print(f\"Test ROUGE-N Fine-Tuned T5 2 Beams: {rouge_summary['rougeL'].mean()}\")\n",
    "\n",
    "rouge_summary = test_df.apply(lambda x: compute_rogue(x['output_gt'], x['output_t5_b3']), axis=1, result_type='expand').mean()\n",
    "print(f\"Test ROUGE-1 Fine-Tuned T5 3 Beams: {rouge_summary['rouge1'].mean()}\")\n",
    "print(f\"Test ROUGE-2 Fine-Tuned T5 3 Beams: {rouge_summary['rouge2'].mean()}\")\n",
    "print(f\"Test ROUGE-N Fine-Tuned T5 3 Beams: {rouge_summary['rougeL'].mean()}\")\n",
    "\n",
    "rouge_summary = test_df.apply(lambda x: compute_rogue(x['output_gt'], x['output_t5_oob_b1']), axis=1, result_type='expand').mean()\n",
    "print(f\"Test ROUGE-1 OOB T5 1 Beam: {rouge_summary['rouge1'].mean()}\")\n",
    "print(f\"Test ROUGE-2 OOB T5 1 Beam: {rouge_summary['rouge2'].mean()}\")\n",
    "print(f\"Test ROUGE-N OOB T5 1 Beam: {rouge_summary['rougeL'].mean()}\")\n",
    "\n",
    "rouge_summary = test_df.apply(lambda x: compute_rogue(x['output_gt'], x['output_t5_oob_b2']), axis=1, result_type='expand').mean()\n",
    "print(f\"Test ROUGE-1 OOB T5 2 Beams: {rouge_summary['rouge1'].mean()}\")\n",
    "print(f\"Test ROUGE-2 OOB T5 2 Beams: {rouge_summary['rouge2'].mean()}\")\n",
    "print(f\"Test ROUGE-N OOB T5 2 Beams: {rouge_summary['rougeL'].mean()}\")\n",
    "\n",
    "rouge_summary = test_df.apply(lambda x: compute_rogue(x['output_gt'], x['output_t5_oob_b3']), axis=1, result_type='expand').mean()\n",
    "print(f\"Test ROUGE-1 OOB T5 3 Beams: {rouge_summary['rouge1'].mean()}\")\n",
    "print(f\"Test ROUGE-2 OOB T5 3 Beams: {rouge_summary['rouge2'].mean()}\")\n",
    "print(f\"Test ROUGE-N OOB T5 3 Beams: {rouge_summary['rougeL'].mean()}\")\n",
    "\n",
    "rouge_summary = test_df.apply(lambda x: compute_rogue(x['output_gt'], x['output_gpt']), axis=1, result_type='expand').mean()\n",
    "print(f\"Test ROUGE-1 GPT 3.5 Turbo: {rouge_summary['rouge1'].mean()}\")\n",
    "print(f\"Test ROUGE-2 GPT 3.5 Turbo: {rouge_summary['rouge2'].mean()}\")\n",
    "print(f\"Test ROUGE-N GPT 3.5 Turbo: {rouge_summary['rougeL'].mean()}\")"
   ]
  },
  {
   "cell_type": "markdown",
   "metadata": {},
   "source": [
    "## Recipe Component Tags (Title, Ingredients, Directions)"
   ]
  },
  {
   "cell_type": "markdown",
   "metadata": {},
   "source": [
    "Now let's get an idea for how the different models capture the formatting tags (`<title>`, `<ingredients>`, `<directions>`). Note that we don't need to evaluate this on the GPT model since GPT didn't learn this - we manually appended these tags to the output to make the format consistent."
   ]
  },
  {
   "cell_type": "code",
   "execution_count": 38,
   "metadata": {},
   "outputs": [
    {
     "name": "stdout",
     "output_type": "stream",
     "text": [
      "Prop of Train Examples with <title> tags in Fine-Tuned T5 1 Beam Output: 0.0\n",
      "Prop of Train Examples with <title> tags in Fine-Tuned T5 2 Beam Output: 0.0\n",
      "Prop of Train Examples with <title> tags in Fine-Tuned T5 3 Beam Output: 0.0\n",
      "Prop of Train Examples with <title> tags in OOB T5 1 Beam Output: 0.0\n",
      "Prop of Train Examples with <title> tags in OOB T5 2 Beam Output: 0.0\n",
      "Prop of Train Examples with <title> tags in OOB T5 3 Beam Output: 0.0\n",
      "\n",
      "Prop of Test Examples with <title> tags in Fine-Tuned T5 1 Beam Output: 0.0\n",
      "Prop of Test Examples with <title> tags in Fine-Tuned T5 2 Beam Output: 0.0\n",
      "Prop of Test Examples with <title> tags in Fine-Tuned T5 3 Beam Output: 0.0\n",
      "Prop of Test Examples with <title> tags in OOB T5 1 Beam Output: 0.0\n",
      "Prop of Test Examples with <title> tags in OOB T5 2 Beam Output: 0.0\n",
      "Prop of Test Examples with <title> tags in OOB T5 3 Beam Output: 0.0\n"
     ]
    }
   ],
   "source": [
    "print(f\"Prop of Train Examples with <title> tags in Fine-Tuned T5 1 Beam Output: {train_df['output_t5_b1'].str.contains(r'<title>').sum() / train_df.shape[0]}\")\n",
    "print(f\"Prop of Train Examples with <title> tags in Fine-Tuned T5 2 Beam Output: {train_df['output_t5_b1'].str.contains(r'<title>').sum() / train_df.shape[0]}\")\n",
    "print(f\"Prop of Train Examples with <title> tags in Fine-Tuned T5 3 Beam Output: {train_df['output_t5_b1'].str.contains(r'<title>').sum() / train_df.shape[0]}\")\n",
    "\n",
    "print(f\"Prop of Train Examples with <title> tags in OOB T5 1 Beam Output: {train_df['output_t5_oob_b1'].str.contains(r'<title>').sum() / train_df.shape[0]}\")\n",
    "print(f\"Prop of Train Examples with <title> tags in OOB T5 2 Beam Output: {train_df['output_t5_oob_b1'].str.contains(r'<title>').sum() / train_df.shape[0]}\")\n",
    "print(f\"Prop of Train Examples with <title> tags in OOB T5 3 Beam Output: {train_df['output_t5_oob_b1'].str.contains(r'<title>').sum() / train_df.shape[0]}\")\n",
    "\n",
    "print()\n",
    "\n",
    "print(f\"Prop of Test Examples with <title> tags in Fine-Tuned T5 1 Beam Output: {test_df['output_t5_b1'].str.contains(r'<title>').sum() / test_df.shape[0]}\")\n",
    "print(f\"Prop of Test Examples with <title> tags in Fine-Tuned T5 2 Beam Output: {test_df['output_t5_b1'].str.contains(r'<title>').sum() / test_df.shape[0]}\")\n",
    "print(f\"Prop of Test Examples with <title> tags in Fine-Tuned T5 3 Beam Output: {test_df['output_t5_b1'].str.contains(r'<title>').sum() / test_df.shape[0]}\")\n",
    "\n",
    "print(f\"Prop of Test Examples with <title> tags in OOB T5 1 Beam Output: {test_df['output_t5_oob_b1'].str.contains(r'<title>').sum() / test_df.shape[0]}\")\n",
    "print(f\"Prop of Test Examples with <title> tags in OOB T5 2 Beam Output: {test_df['output_t5_oob_b1'].str.contains(r'<title>').sum() / test_df.shape[0]}\")\n",
    "print(f\"Prop of Test Examples with <title> tags in OOB T5 3 Beam Output: {test_df['output_t5_oob_b1'].str.contains(r'<title>').sum() / test_df.shape[0]}\")"
   ]
  },
  {
   "cell_type": "code",
   "execution_count": 39,
   "metadata": {},
   "outputs": [
    {
     "name": "stdout",
     "output_type": "stream",
     "text": [
      "Prop of Train Examples with partial <title> tags in Fine-Tuned T5 1 Beam Output: 0.05103280680437424\n",
      "Prop of Train Examples with partial <title> tags in Fine-Tuned T5 2 Beam Output: 0.05103280680437424\n",
      "Prop of Train Examples with partial <title> tags in Fine-Tuned T5 3 Beam Output: 0.05103280680437424\n",
      "Prop of Train Examples with partial <title> tags in OOB T5 1 Beam Output: 0.0\n",
      "Prop of Train Examples with partial <title> tags in OOB T5 2 Beam Output: 0.0\n",
      "Prop of Train Examples with partial <title> tags in OOB T5 3 Beam Output: 0.0\n",
      "\n",
      "Prop of Test Examples with partial <title> tags in Fine-Tuned T5 1 Beam Output: 0.05928085519922255\n",
      "Prop of Test Examples with partial <title> tags in Fine-Tuned T5 2 Beam Output: 0.05928085519922255\n",
      "Prop of Test Examples with partial <title> tags in Fine-Tuned T5 3 Beam Output: 0.05928085519922255\n",
      "Prop of Test Examples with partial <title> tags in OOB T5 1 Beam Output: 0.0\n",
      "Prop of Test Examples with partial <title> tags in OOB T5 2 Beam Output: 0.0\n",
      "Prop of Test Examples with partial <title> tags in OOB T5 3 Beam Output: 0.0\n"
     ]
    }
   ],
   "source": [
    "print(f\"Prop of Train Examples with partial <title> tags in Fine-Tuned T5 1 Beam Output: {train_df['output_t5_b1'].str.contains(r'[<]?title[>]?').sum() / train_df.shape[0]}\")\n",
    "print(f\"Prop of Train Examples with partial <title> tags in Fine-Tuned T5 2 Beam Output: {train_df['output_t5_b1'].str.contains(r'[<]?title[>]?').sum() / train_df.shape[0]}\")\n",
    "print(f\"Prop of Train Examples with partial <title> tags in Fine-Tuned T5 3 Beam Output: {train_df['output_t5_b1'].str.contains(r'[<]?title[>]?').sum() / train_df.shape[0]}\")\n",
    "\n",
    "print(f\"Prop of Train Examples with partial <title> tags in OOB T5 1 Beam Output: {train_df['output_t5_oob_b1'].str.contains(r'[<]?title[>]?').sum() / train_df.shape[0]}\")\n",
    "print(f\"Prop of Train Examples with partial <title> tags in OOB T5 2 Beam Output: {train_df['output_t5_oob_b1'].str.contains(r'[<]?title[>]?').sum() / train_df.shape[0]}\")\n",
    "print(f\"Prop of Train Examples with partial <title> tags in OOB T5 3 Beam Output: {train_df['output_t5_oob_b1'].str.contains(r'[<]?title[>]?').sum() / train_df.shape[0]}\")\n",
    "\n",
    "print()\n",
    "\n",
    "print(f\"Prop of Test Examples with partial <title> tags in Fine-Tuned T5 1 Beam Output: {test_df['output_t5_b1'].str.contains(r'[<]?title[>]?').sum() / test_df.shape[0]}\")\n",
    "print(f\"Prop of Test Examples with partial <title> tags in Fine-Tuned T5 2 Beam Output: {test_df['output_t5_b1'].str.contains(r'[<]?title[>]?').sum() / test_df.shape[0]}\")\n",
    "print(f\"Prop of Test Examples with partial <title> tags in Fine-Tuned T5 3 Beam Output: {test_df['output_t5_b1'].str.contains(r'[<]?title[>]?').sum() / test_df.shape[0]}\")\n",
    "\n",
    "print(f\"Prop of Test Examples with partial <title> tags in OOB T5 1 Beam Output: {test_df['output_t5_oob_b1'].str.contains(r'[<]?title[>]?').sum() / test_df.shape[0]}\")\n",
    "print(f\"Prop of Test Examples with partial <title> tags in OOB T5 2 Beam Output: {test_df['output_t5_oob_b1'].str.contains(r'[<]?title[>]?').sum() / test_df.shape[0]}\")\n",
    "print(f\"Prop of Test Examples with partial <title> tags in OOB T5 3 Beam Output: {test_df['output_t5_oob_b1'].str.contains(r'[<]?title[>]?').sum() / test_df.shape[0]}\")"
   ]
  },
  {
   "cell_type": "markdown",
   "metadata": {},
   "source": [
    "Seems like the model was able to generate a few title tags partially. Let's look at some of these examples."
   ]
  },
  {
   "cell_type": "code",
   "execution_count": 41,
   "metadata": {},
   "outputs": [
    {
     "data": {
      "text/html": [
       "<div>\n",
       "<style scoped>\n",
       "    .dataframe tbody tr th:only-of-type {\n",
       "        vertical-align: middle;\n",
       "    }\n",
       "\n",
       "    .dataframe tbody tr th {\n",
       "        vertical-align: top;\n",
       "    }\n",
       "\n",
       "    .dataframe thead th {\n",
       "        text-align: right;\n",
       "    }\n",
       "</style>\n",
       "<table border=\"1\" class=\"dataframe\">\n",
       "  <thead>\n",
       "    <tr style=\"text-align: right;\">\n",
       "      <th></th>\n",
       "      <th>output_t5_b1</th>\n",
       "    </tr>\n",
       "  </thead>\n",
       "  <tbody>\n",
       "    <tr>\n",
       "      <th>12</th>\n",
       "      <td>2 tablespoons jarlic, 1 tablespoon salt, 1 tablespoon ted butter, 1 tablespoon leaf parsley, 1 tablespoon thymetitle&gt;ingredients&gt;directions&gt;1. Combine jarlic, salt, ted butter, parsley, and thyme in small bowl. Season with salt and pepper. Season with salt and pepper.directions&gt;</td>\n",
       "    </tr>\n",
       "    <tr>\n",
       "      <th>38</th>\n",
       "      <td>Baby Red Potatoestitle&gt;ingredients&gt;1 1/2 cups baby red potatoes, 2 cups carrots, 3 ounces broccoli florets, 2 1/2 cups red bell peppersingredients&gt;directions&gt;1. Combine potatoes and carrots in small bowl. Season with salt and pepper. Season with salt and pepper.directions&gt;</td>\n",
       "    </tr>\n",
       "    <tr>\n",
       "      <th>76</th>\n",
       "      <td>Castyl Alcoholtitle&gt;ingredients&gt;1 cup bottle gible, 1 cup chicken broth, 1 cup water, 1 cup celery rib, 1 cup carrotingredients&gt;directions&gt;1. Bring bottle gible, chicken broth, 1 cup celery rib to simmer, 1 cup carrot. Cover and chill until rib is tender, about 2 minutes. Season with salt and pepper.directions&gt;</td>\n",
       "    </tr>\n",
       "    <tr>\n",
       "      <th>78</th>\n",
       "      <td>3 ounces roma tomatoes, 3 ounces calamata olives, 3 ounces red onion, 3 ounces caperstitle&gt;ingredients&gt;directions&gt;1. Place a large pizza pan in a small bowl and serve hot sauce. Season with salt and pepper.directions&gt;</td>\n",
       "    </tr>\n",
       "    <tr>\n",
       "      <th>119</th>\n",
       "      <td>3 tablespoons extra-virgin olive oil, 1 tablespoon Champagne vinegar, 1 tablespoon shallot, 1 tablespoon Dijon mustard, 1 tablespoon butter lettuce, 2 tablespoons radishestitle&gt;ingredients&gt;directions&gt;1. In a large skillet, cook olive oil in a large skillet over medium heat until the sun is moistened. Season with salt and pepper. Season with salt and pepper., 2. Place butter lettuce in a large bowl and serve hot.directions&gt;</td>\n",
       "    </tr>\n",
       "    <tr>\n",
       "      <th>...</th>\n",
       "      <td>...</td>\n",
       "    </tr>\n",
       "    <tr>\n",
       "      <th>4072</th>\n",
       "      <td>Child Pork Cheesetitle&gt;ingredients&gt;2 cheddar cheese, 1 ounce ruby Port, 1 ounce ted butter, 1 tablespoon Dijon mustard, 1 tablespoon black pepperingredients&gt;directions&gt;1. Place cheese in a small bowl and serve hot sauce. Season with salt and pepper.directions&gt;</td>\n",
       "    </tr>\n",
       "    <tr>\n",
       "      <th>4090</th>\n",
       "      <td>, 1 tablespoon extra-virgin olive oil, 1 tablespoon garlic, 1 tablespoon vine tomato, 1/2 teaspoon paprikatitle&gt;ingredients&gt;Italian bread, 2 tablespoons extra-virgin olive oil, 1 tablespoon garlic, 1 tablespoon vine tomato, 1/2 teaspoon paprikaingredients&gt;directions&gt;1. Preheat oven to 350°F., 2. Preheat oven to 350°F., 2. Place bread in oven and cook in a large oven-safe pan</td>\n",
       "    </tr>\n",
       "    <tr>\n",
       "      <th>4092</th>\n",
       "      <td>Rhubarb Sturgeonstitle&gt;ingredients&gt;1 1/2 cups rhubarb stalks, 1 1/2 cups water, 1 1/2 cups sugar, 1 1/2 cups gingeringredients&gt;directions&gt;1. Bring stalks and ginger to a boil in a small saucepan over medium heat, stirring occasionally, until rhubarb stalks are dissolved, stirring occasionally, about 2 minutes. Bring to a boil, stirring occasionally, about 2 minutes. Season with salt and pepper to taste</td>\n",
       "    </tr>\n",
       "    <tr>\n",
       "      <th>4097</th>\n",
       "      <td>1 ounce lobster, 2 shrimp, 1 cup mayonnaise, 1 cup lemon juice, 2 tablespoons dill, 1 ounce chivestitle&gt;ingredients&gt;directions&gt;1. Combine lobster, shrimp, mayonnaise, lemon juice, dill, chives and chives in a 12-ounce glass container. Pour lemon juice into a 12-ounce glass container. Transfer chives to a 12-ounce glass container. Transfer to a 12-ounce glass container</td>\n",
       "    </tr>\n",
       "    <tr>\n",
       "      <th>4112</th>\n",
       "      <td>acorn squash, 1 tablespoon olive oil, 1 tablespoon balsamic vinegar, 1 tablespoon peperoncini, 1 tablespoon thymetitle&gt;ingredients&gt;1 cup acorn squash, 1 tablespoon peperoncini, 1 tablespoon thymeingredients&gt;directions&gt;1. Preheat oven to 350°F., 2. Place squash in oven and cook in a small saucepan over medium heat, stirring occasionally, until browned, about 2 minutes. Season with salt and pepper.</td>\n",
       "    </tr>\n",
       "  </tbody>\n",
       "</table>\n",
       "<p>210 rows × 1 columns</p>\n",
       "</div>"
      ],
      "text/plain": [
       "                                                                                                                                                                                                                                                                                                                                                                                                                                    output_t5_b1\n",
       "12                                                                                                                                                       2 tablespoons jarlic, 1 tablespoon salt, 1 tablespoon ted butter, 1 tablespoon leaf parsley, 1 tablespoon thymetitle>ingredients>directions>1. Combine jarlic, salt, ted butter, parsley, and thyme in small bowl. Season with salt and pepper. Season with salt and pepper.directions>\n",
       "38                                                                                                                                                             Baby Red Potatoestitle>ingredients>1 1/2 cups baby red potatoes, 2 cups carrots, 3 ounces broccoli florets, 2 1/2 cups red bell peppersingredients>directions>1. Combine potatoes and carrots in small bowl. Season with salt and pepper. Season with salt and pepper.directions>\n",
       "76                                                                                                                      Castyl Alcoholtitle>ingredients>1 cup bottle gible, 1 cup chicken broth, 1 cup water, 1 cup celery rib, 1 cup carrotingredients>directions>1. Bring bottle gible, chicken broth, 1 cup celery rib to simmer, 1 cup carrot. Cover and chill until rib is tender, about 2 minutes. Season with salt and pepper.directions>\n",
       "78                                                                                                                                                                                                                     3 ounces roma tomatoes, 3 ounces calamata olives, 3 ounces red onion, 3 ounces caperstitle>ingredients>directions>1. Place a large pizza pan in a small bowl and serve hot sauce. Season with salt and pepper.directions>\n",
       "119   3 tablespoons extra-virgin olive oil, 1 tablespoon Champagne vinegar, 1 tablespoon shallot, 1 tablespoon Dijon mustard, 1 tablespoon butter lettuce, 2 tablespoons radishestitle>ingredients>directions>1. In a large skillet, cook olive oil in a large skillet over medium heat until the sun is moistened. Season with salt and pepper. Season with salt and pepper., 2. Place butter lettuce in a large bowl and serve hot.directions>\n",
       "...                                                                                                                                                                                                                                                                                                                                                                                                                                          ...\n",
       "4072                                                                                                                                                                        Child Pork Cheesetitle>ingredients>2 cheddar cheese, 1 ounce ruby Port, 1 ounce ted butter, 1 tablespoon Dijon mustard, 1 tablespoon black pepperingredients>directions>1. Place cheese in a small bowl and serve hot sauce. Season with salt and pepper.directions>\n",
       "4090                                                   , 1 tablespoon extra-virgin olive oil, 1 tablespoon garlic, 1 tablespoon vine tomato, 1/2 teaspoon paprikatitle>ingredients>Italian bread, 2 tablespoons extra-virgin olive oil, 1 tablespoon garlic, 1 tablespoon vine tomato, 1/2 teaspoon paprikaingredients>directions>1. Preheat oven to 350°F., 2. Preheat oven to 350°F., 2. Place bread in oven and cook in a large oven-safe pan\n",
       "4092                       Rhubarb Sturgeonstitle>ingredients>1 1/2 cups rhubarb stalks, 1 1/2 cups water, 1 1/2 cups sugar, 1 1/2 cups gingeringredients>directions>1. Bring stalks and ginger to a boil in a small saucepan over medium heat, stirring occasionally, until rhubarb stalks are dissolved, stirring occasionally, about 2 minutes. Bring to a boil, stirring occasionally, about 2 minutes. Season with salt and pepper to taste\n",
       "4097                                                          1 ounce lobster, 2 shrimp, 1 cup mayonnaise, 1 cup lemon juice, 2 tablespoons dill, 1 ounce chivestitle>ingredients>directions>1. Combine lobster, shrimp, mayonnaise, lemon juice, dill, chives and chives in a 12-ounce glass container. Pour lemon juice into a 12-ounce glass container. Transfer chives to a 12-ounce glass container. Transfer to a 12-ounce glass container\n",
       "4112                             acorn squash, 1 tablespoon olive oil, 1 tablespoon balsamic vinegar, 1 tablespoon peperoncini, 1 tablespoon thymetitle>ingredients>1 cup acorn squash, 1 tablespoon peperoncini, 1 tablespoon thymeingredients>directions>1. Preheat oven to 350°F., 2. Place squash in oven and cook in a small saucepan over medium heat, stirring occasionally, until browned, about 2 minutes. Season with salt and pepper.\n",
       "\n",
       "[210 rows x 1 columns]"
      ]
     },
     "metadata": {},
     "output_type": "display_data"
    }
   ],
   "source": [
    "with pd.option_context('display.max_colwidth', None):\n",
    "    display(train_df.loc[train_df['output_t5_b1'].str.contains(r'[<]?title[>]?'), 'output_t5_b1'].to_frame())"
   ]
  },
  {
   "cell_type": "code",
   "execution_count": 42,
   "metadata": {},
   "outputs": [
    {
     "name": "stdout",
     "output_type": "stream",
     "text": [
      "Prop of Train Examples with <ingredients> tags in Fine-Tuned T5 1 Beam Output: 0.0\n",
      "Prop of Train Examples with <ingredients> tags in Fine-Tuned T5 2 Beam Output: 0.0\n",
      "Prop of Train Examples with <ingredients> tags in Fine-Tuned T5 3 Beam Output: 0.0\n",
      "Prop of Train Examples with <ingredients> tags in OOB T5 1 Beam Output: 0.0\n",
      "Prop of Train Examples with <ingredients> tags in OOB T5 2 Beam Output: 0.0\n",
      "Prop of Train Examples with <ingredients> tags in OOB T5 3 Beam Output: 0.0\n",
      "\n",
      "Prop of Test Examples with <ingredients> tags in Fine-Tuned T5 1 Beam Output: 0.0\n",
      "Prop of Test Examples with <ingredients> tags in Fine-Tuned T5 2 Beam Output: 0.0\n",
      "Prop of Test Examples with <ingredients> tags in Fine-Tuned T5 3 Beam Output: 0.0\n",
      "Prop of Test Examples with <ingredients> tags in OOB T5 1 Beam Output: 0.0\n",
      "Prop of Test Examples with <ingredients> tags in OOB T5 2 Beam Output: 0.0\n",
      "Prop of Test Examples with <ingredients> tags in OOB T5 3 Beam Output: 0.0\n"
     ]
    }
   ],
   "source": [
    "print(f\"Prop of Train Examples with <ingredients> tags in Fine-Tuned T5 1 Beam Output: {train_df['output_t5_b1'].str.contains(r'<ingredients>').sum() / train_df.shape[0]}\")\n",
    "print(f\"Prop of Train Examples with <ingredients> tags in Fine-Tuned T5 2 Beam Output: {train_df['output_t5_b1'].str.contains(r'<ingredients>').sum() / train_df.shape[0]}\")\n",
    "print(f\"Prop of Train Examples with <ingredients> tags in Fine-Tuned T5 3 Beam Output: {train_df['output_t5_b1'].str.contains(r'<ingredients>').sum() / train_df.shape[0]}\")\n",
    "\n",
    "print(f\"Prop of Train Examples with <ingredients> tags in OOB T5 1 Beam Output: {train_df['output_t5_oob_b1'].str.contains(r'<ingredients>').sum() / train_df.shape[0]}\")\n",
    "print(f\"Prop of Train Examples with <ingredients> tags in OOB T5 2 Beam Output: {train_df['output_t5_oob_b1'].str.contains(r'<ingredients>').sum() / train_df.shape[0]}\")\n",
    "print(f\"Prop of Train Examples with <ingredients> tags in OOB T5 3 Beam Output: {train_df['output_t5_oob_b1'].str.contains(r'<ingredients>').sum() / train_df.shape[0]}\")\n",
    "\n",
    "print()\n",
    "\n",
    "print(f\"Prop of Test Examples with <ingredients> tags in Fine-Tuned T5 1 Beam Output: {test_df['output_t5_b1'].str.contains(r'<ingredients>').sum() / test_df.shape[0]}\")\n",
    "print(f\"Prop of Test Examples with <ingredients> tags in Fine-Tuned T5 2 Beam Output: {test_df['output_t5_b1'].str.contains(r'<ingredients>').sum() / test_df.shape[0]}\")\n",
    "print(f\"Prop of Test Examples with <ingredients> tags in Fine-Tuned T5 3 Beam Output: {test_df['output_t5_b1'].str.contains(r'<ingredients>').sum() / test_df.shape[0]}\")\n",
    "\n",
    "print(f\"Prop of Test Examples with <ingredients> tags in OOB T5 1 Beam Output: {test_df['output_t5_oob_b1'].str.contains(r'<ingredients>').sum() / test_df.shape[0]}\")\n",
    "print(f\"Prop of Test Examples with <ingredients> tags in OOB T5 2 Beam Output: {test_df['output_t5_oob_b1'].str.contains(r'<ingredients>').sum() / test_df.shape[0]}\")\n",
    "print(f\"Prop of Test Examples with <ingredients> tags in OOB T5 3 Beam Output: {test_df['output_t5_oob_b1'].str.contains(r'<ingredients>').sum() / test_df.shape[0]}\")"
   ]
  },
  {
   "cell_type": "code",
   "execution_count": 44,
   "metadata": {},
   "outputs": [
    {
     "name": "stdout",
     "output_type": "stream",
     "text": [
      "Prop of Train Examples with <ingredient(s)> tags in Fine-Tuned T5 1 Beam Output: 0.0\n",
      "Prop of Train Examples with <ingredient(s)> tags in Fine-Tuned T5 2 Beam Output: 0.0\n",
      "Prop of Train Examples with <ingredient(s)> tags in Fine-Tuned T5 3 Beam Output: 0.0\n",
      "Prop of Train Examples with <ingredient(s)> tags in OOB T5 1 Beam Output: 0.0\n",
      "Prop of Train Examples with <ingredient(s)> tags in OOB T5 2 Beam Output: 0.0\n",
      "Prop of Train Examples with <ingredient(s)> tags in OOB T5 3 Beam Output: 0.0\n",
      "\n",
      "Prop of Test Examples with <ingredient(s)> tags in Fine-Tuned T5 1 Beam Output: 0.0\n",
      "Prop of Test Examples with <ingredient(s)> tags in Fine-Tuned T5 2 Beam Output: 0.0\n",
      "Prop of Test Examples with <ingredient(s)> tags in Fine-Tuned T5 3 Beam Output: 0.0\n",
      "Prop of Test Examples with <ingredient(s)> tags in OOB T5 1 Beam Output: 0.0\n",
      "Prop of Test Examples with <ingredient(s)> tags in OOB T5 2 Beam Output: 0.0\n",
      "Prop of Test Examples with <ingredient(s)> tags in OOB T5 3 Beam Output: 0.0\n"
     ]
    }
   ],
   "source": [
    "print(f\"Prop of Train Examples with <ingredient(s)> tags in Fine-Tuned T5 1 Beam Output: {train_df['output_t5_b1'].str.contains(r'<ingredient[s]?>').sum() / train_df.shape[0]}\")\n",
    "print(f\"Prop of Train Examples with <ingredient(s)> tags in Fine-Tuned T5 2 Beam Output: {train_df['output_t5_b1'].str.contains(r'<ingredient[s]?>').sum() / train_df.shape[0]}\")\n",
    "print(f\"Prop of Train Examples with <ingredient(s)> tags in Fine-Tuned T5 3 Beam Output: {train_df['output_t5_b1'].str.contains(r'<ingredient[s]?>').sum() / train_df.shape[0]}\")\n",
    "\n",
    "print(f\"Prop of Train Examples with <ingredient(s)> tags in OOB T5 1 Beam Output: {train_df['output_t5_oob_b1'].str.contains(r'<ingredient[s]?>').sum() / train_df.shape[0]}\")\n",
    "print(f\"Prop of Train Examples with <ingredient(s)> tags in OOB T5 2 Beam Output: {train_df['output_t5_oob_b1'].str.contains(r'<ingredient[s]?>').sum() / train_df.shape[0]}\")\n",
    "print(f\"Prop of Train Examples with <ingredient(s)> tags in OOB T5 3 Beam Output: {train_df['output_t5_oob_b1'].str.contains(r'<ingredient[s]?>').sum() / train_df.shape[0]}\")\n",
    "\n",
    "print()\n",
    "\n",
    "print(f\"Prop of Test Examples with <ingredient(s)> tags in Fine-Tuned T5 1 Beam Output: {test_df['output_t5_b1'].str.contains(r'<ingredient[s]?>').sum() / test_df.shape[0]}\")\n",
    "print(f\"Prop of Test Examples with <ingredient(s)> tags in Fine-Tuned T5 2 Beam Output: {test_df['output_t5_b1'].str.contains(r'<ingredient[s]?>').sum() / test_df.shape[0]}\")\n",
    "print(f\"Prop of Test Examples with <ingredient(s)> tags in Fine-Tuned T5 3 Beam Output: {test_df['output_t5_b1'].str.contains(r'<ingredient[s]?>').sum() / test_df.shape[0]}\")\n",
    "\n",
    "print(f\"Prop of Test Examples with <ingredient(s)> tags in OOB T5 1 Beam Output: {test_df['output_t5_oob_b1'].str.contains(r'<ingredient[s]?>').sum() / test_df.shape[0]}\")\n",
    "print(f\"Prop of Test Examples with <ingredient(s)> tags in OOB T5 2 Beam Output: {test_df['output_t5_oob_b1'].str.contains(r'<ingredient[s]?>').sum() / test_df.shape[0]}\")\n",
    "print(f\"Prop of Test Examples with <ingredient(s)> tags in OOB T5 3 Beam Output: {test_df['output_t5_oob_b1'].str.contains(r'<ingredient[s]?>').sum() / test_df.shape[0]}\")"
   ]
  },
  {
   "cell_type": "code",
   "execution_count": 43,
   "metadata": {},
   "outputs": [
    {
     "name": "stdout",
     "output_type": "stream",
     "text": [
      "Prop of Train Examples with partial <ingredient(s)> tags in Fine-Tuned T5 1 Beam Output: 0.9844471445929526\n",
      "Prop of Train Examples with partial <ingredient(s)> tags in Fine-Tuned T5 2 Beam Output: 0.9844471445929526\n",
      "Prop of Train Examples with partial <ingredient(s)> tags in Fine-Tuned T5 3 Beam Output: 0.9844471445929526\n",
      "Prop of Train Examples with partial <ingredient(s)> tags in OOB T5 1 Beam Output: 0.8226002430133658\n",
      "Prop of Train Examples with partial <ingredient(s)> tags in OOB T5 2 Beam Output: 0.8226002430133658\n",
      "Prop of Train Examples with partial <ingredient(s)> tags in OOB T5 3 Beam Output: 0.8226002430133658\n",
      "\n",
      "Prop of Test Examples with partial <ingredient(s)> tags in Fine-Tuned T5 1 Beam Output: 0.9795918367346939\n",
      "Prop of Test Examples with partial <ingredient(s)> tags in Fine-Tuned T5 2 Beam Output: 0.9795918367346939\n",
      "Prop of Test Examples with partial <ingredient(s)> tags in Fine-Tuned T5 3 Beam Output: 0.9795918367346939\n",
      "Prop of Test Examples with partial <ingredient(s)> tags in OOB T5 1 Beam Output: 0.8367346938775511\n",
      "Prop of Test Examples with partial <ingredient(s)> tags in OOB T5 2 Beam Output: 0.8367346938775511\n",
      "Prop of Test Examples with partial <ingredient(s)> tags in OOB T5 3 Beam Output: 0.8367346938775511\n"
     ]
    }
   ],
   "source": [
    "print(f\"Prop of Train Examples with partial <ingredient(s)> tags in Fine-Tuned T5 1 Beam Output: {train_df['output_t5_b1'].str.contains(r'[<]?ingredient[s]?[>]?').sum() / train_df.shape[0]}\")\n",
    "print(f\"Prop of Train Examples with partial <ingredient(s)> tags in Fine-Tuned T5 2 Beam Output: {train_df['output_t5_b1'].str.contains(r'[<]?ingredient[s]?[>]?').sum() / train_df.shape[0]}\")\n",
    "print(f\"Prop of Train Examples with partial <ingredient(s)> tags in Fine-Tuned T5 3 Beam Output: {train_df['output_t5_b1'].str.contains(r'[<]?ingredient[s]?[>]?').sum() / train_df.shape[0]}\")\n",
    "\n",
    "print(f\"Prop of Train Examples with partial <ingredient(s)> tags in OOB T5 1 Beam Output: {train_df['output_t5_oob_b1'].str.contains(r'[<]?ingredient[s]?[>]?').sum() / train_df.shape[0]}\")\n",
    "print(f\"Prop of Train Examples with partial <ingredient(s)> tags in OOB T5 2 Beam Output: {train_df['output_t5_oob_b1'].str.contains(r'[<]?ingredient[s]?[>]?').sum() / train_df.shape[0]}\")\n",
    "print(f\"Prop of Train Examples with partial <ingredient(s)> tags in OOB T5 3 Beam Output: {train_df['output_t5_oob_b1'].str.contains(r'[<]?ingredient[s]?[>]?').sum() / train_df.shape[0]}\")\n",
    "\n",
    "print()\n",
    "\n",
    "print(f\"Prop of Test Examples with partial <ingredient(s)> tags in Fine-Tuned T5 1 Beam Output: {test_df['output_t5_b1'].str.contains(r'[<]?ingredient[s]?[>]?').sum() / test_df.shape[0]}\")\n",
    "print(f\"Prop of Test Examples with partial <ingredient(s)> tags in Fine-Tuned T5 2 Beam Output: {test_df['output_t5_b1'].str.contains(r'[<]?ingredient[s]?[>]?').sum() / test_df.shape[0]}\")\n",
    "print(f\"Prop of Test Examples with partial <ingredient(s)> tags in Fine-Tuned T5 3 Beam Output: {test_df['output_t5_b1'].str.contains(r'[<]?ingredient[s]?[>]?').sum() / test_df.shape[0]}\")\n",
    "\n",
    "print(f\"Prop of Test Examples with partial <ingredient(s)> tags in OOB T5 1 Beam Output: {test_df['output_t5_oob_b1'].str.contains(r'[<]?ingredient[s]?[>]?').sum() / test_df.shape[0]}\")\n",
    "print(f\"Prop of Test Examples with partial <ingredient(s)> tags in OOB T5 2 Beam Output: {test_df['output_t5_oob_b1'].str.contains(r'[<]?ingredient[s]?[>]?').sum() / test_df.shape[0]}\")\n",
    "print(f\"Prop of Test Examples with partial <ingredient(s)> tags in OOB T5 3 Beam Output: {test_df['output_t5_oob_b1'].str.contains(r'[<]?ingredient[s]?[>]?').sum() / test_df.shape[0]}\")"
   ]
  },
  {
   "cell_type": "markdown",
   "metadata": {},
   "source": [
    "Once again, the models are able to generate ingredient tags partially but not fully."
   ]
  },
  {
   "cell_type": "code",
   "execution_count": 45,
   "metadata": {},
   "outputs": [
    {
     "name": "stdout",
     "output_type": "stream",
     "text": [
      "Prop of Train Examples with <directions> tags in Fine-Tuned T5 1 Beam Output: 0.0\n",
      "Prop of Train Examples with <directions> tags in Fine-Tuned T5 2 Beam Output: 0.0\n",
      "Prop of Train Examples with <directions> tags in Fine-Tuned T5 3 Beam Output: 0.0\n",
      "Prop of Train Examples with <directions> tags in OOB T5 1 Beam Output: 0.0\n",
      "Prop of Train Examples with <directions> tags in OOB T5 2 Beam Output: 0.0\n",
      "Prop of Train Examples with <directions> tags in OOB T5 3 Beam Output: 0.0\n",
      "\n",
      "Prop of Test Examples with <directions> tags in Fine-Tuned T5 1 Beam Output: 0.0\n",
      "Prop of Test Examples with <directions> tags in Fine-Tuned T5 2 Beam Output: 0.0\n",
      "Prop of Test Examples with <directions> tags in Fine-Tuned T5 3 Beam Output: 0.0\n",
      "Prop of Test Examples with <directions> tags in OOB T5 1 Beam Output: 0.0\n",
      "Prop of Test Examples with <directions> tags in OOB T5 2 Beam Output: 0.0\n",
      "Prop of Test Examples with <directions> tags in OOB T5 3 Beam Output: 0.0\n"
     ]
    }
   ],
   "source": [
    "print(f\"Prop of Train Examples with <directions> tags in Fine-Tuned T5 1 Beam Output: {train_df['output_t5_b1'].str.contains(r'<ingredients>').sum() / train_df.shape[0]}\")\n",
    "print(f\"Prop of Train Examples with <directions> tags in Fine-Tuned T5 2 Beam Output: {train_df['output_t5_b1'].str.contains(r'<ingredients>').sum() / train_df.shape[0]}\")\n",
    "print(f\"Prop of Train Examples with <directions> tags in Fine-Tuned T5 3 Beam Output: {train_df['output_t5_b1'].str.contains(r'<ingredients>').sum() / train_df.shape[0]}\")\n",
    "\n",
    "print(f\"Prop of Train Examples with <directions> tags in OOB T5 1 Beam Output: {train_df['output_t5_oob_b1'].str.contains(r'<ingredients>').sum() / train_df.shape[0]}\")\n",
    "print(f\"Prop of Train Examples with <directions> tags in OOB T5 2 Beam Output: {train_df['output_t5_oob_b1'].str.contains(r'<ingredients>').sum() / train_df.shape[0]}\")\n",
    "print(f\"Prop of Train Examples with <directions> tags in OOB T5 3 Beam Output: {train_df['output_t5_oob_b1'].str.contains(r'<ingredients>').sum() / train_df.shape[0]}\")\n",
    "\n",
    "print()\n",
    "\n",
    "print(f\"Prop of Test Examples with <directions> tags in Fine-Tuned T5 1 Beam Output: {test_df['output_t5_b1'].str.contains(r'<directions>').sum() / test_df.shape[0]}\")\n",
    "print(f\"Prop of Test Examples with <directions> tags in Fine-Tuned T5 2 Beam Output: {test_df['output_t5_b1'].str.contains(r'<directions>').sum() / test_df.shape[0]}\")\n",
    "print(f\"Prop of Test Examples with <directions> tags in Fine-Tuned T5 3 Beam Output: {test_df['output_t5_b1'].str.contains(r'<directions>').sum() / test_df.shape[0]}\")\n",
    "\n",
    "print(f\"Prop of Test Examples with <directions> tags in OOB T5 1 Beam Output: {test_df['output_t5_oob_b1'].str.contains(r'<directions>').sum() / test_df.shape[0]}\")\n",
    "print(f\"Prop of Test Examples with <directions> tags in OOB T5 2 Beam Output: {test_df['output_t5_oob_b1'].str.contains(r'<directions>').sum() / test_df.shape[0]}\")\n",
    "print(f\"Prop of Test Examples with <directions> tags in OOB T5 3 Beam Output: {test_df['output_t5_oob_b1'].str.contains(r'<directions>').sum() / test_df.shape[0]}\")"
   ]
  },
  {
   "cell_type": "code",
   "execution_count": 46,
   "metadata": {},
   "outputs": [
    {
     "name": "stdout",
     "output_type": "stream",
     "text": [
      "Prop of Train Examples with <direction(s)> tags in Fine-Tuned T5 1 Beam Output: 0.0\n",
      "Prop of Train Examples with <direction(s)> tags in Fine-Tuned T5 2 Beam Output: 0.0\n",
      "Prop of Train Examples with <direction(s)> tags in Fine-Tuned T5 3 Beam Output: 0.0\n",
      "Prop of Train Examples with <direction(s)> tags in OOB T5 1 Beam Output: 0.0\n",
      "Prop of Train Examples with <direction(s)> tags in OOB T5 2 Beam Output: 0.0\n",
      "Prop of Train Examples with <direction(s)> tags in OOB T5 3 Beam Output: 0.0\n",
      "\n",
      "Prop of Test Examples with <direction(s)> tags in Fine-Tuned T5 1 Beam Output: 0.0\n",
      "Prop of Test Examples with <direction(s)> tags in Fine-Tuned T5 2 Beam Output: 0.0\n",
      "Prop of Test Examples with <direction(s)> tags in Fine-Tuned T5 3 Beam Output: 0.0\n",
      "Prop of Test Examples with <direction(s)> tags in OOB T5 1 Beam Output: 0.0\n",
      "Prop of Test Examples with <direction(s)> tags in OOB T5 2 Beam Output: 0.0\n",
      "Prop of Test Examples with <direction(s)> tags in OOB T5 3 Beam Output: 0.0\n"
     ]
    }
   ],
   "source": [
    "print(f\"Prop of Train Examples with <direction(s)> tags in Fine-Tuned T5 1 Beam Output: {train_df['output_t5_b1'].str.contains(r'<direction[s]?>').sum() / train_df.shape[0]}\")\n",
    "print(f\"Prop of Train Examples with <direction(s)> tags in Fine-Tuned T5 2 Beam Output: {train_df['output_t5_b1'].str.contains(r'<direction[s]?>').sum() / train_df.shape[0]}\")\n",
    "print(f\"Prop of Train Examples with <direction(s)> tags in Fine-Tuned T5 3 Beam Output: {train_df['output_t5_b1'].str.contains(r'<direction[s]?>').sum() / train_df.shape[0]}\")\n",
    "\n",
    "print(f\"Prop of Train Examples with <direction(s)> tags in OOB T5 1 Beam Output: {train_df['output_t5_oob_b1'].str.contains(r'<direction[s]?>').sum() / train_df.shape[0]}\")\n",
    "print(f\"Prop of Train Examples with <direction(s)> tags in OOB T5 2 Beam Output: {train_df['output_t5_oob_b1'].str.contains(r'<direction[s]?>').sum() / train_df.shape[0]}\")\n",
    "print(f\"Prop of Train Examples with <direction(s)> tags in OOB T5 3 Beam Output: {train_df['output_t5_oob_b1'].str.contains(r'<direction[s]?>').sum() / train_df.shape[0]}\")\n",
    "\n",
    "print()\n",
    "\n",
    "print(f\"Prop of Test Examples with <direction(s)> tags in Fine-Tuned T5 1 Beam Output: {test_df['output_t5_b1'].str.contains(r'<direction[s]?>').sum() / test_df.shape[0]}\")\n",
    "print(f\"Prop of Test Examples with <direction(s)> tags in Fine-Tuned T5 2 Beam Output: {test_df['output_t5_b1'].str.contains(r'<direction[s]?>').sum() / test_df.shape[0]}\")\n",
    "print(f\"Prop of Test Examples with <direction(s)> tags in Fine-Tuned T5 3 Beam Output: {test_df['output_t5_b1'].str.contains(r'<direction[s]?>').sum() / test_df.shape[0]}\")\n",
    "\n",
    "print(f\"Prop of Test Examples with <direction(s)> tags in OOB T5 1 Beam Output: {test_df['output_t5_oob_b1'].str.contains(r'<direction[s]?>').sum() / test_df.shape[0]}\")\n",
    "print(f\"Prop of Test Examples with <direction(s)> tags in OOB T5 2 Beam Output: {test_df['output_t5_oob_b1'].str.contains(r'<direction[s]?>').sum() / test_df.shape[0]}\")\n",
    "print(f\"Prop of Test Examples with <direction(s)> tags in OOB T5 3 Beam Output: {test_df['output_t5_oob_b1'].str.contains(r'<direction[s]?>').sum() / test_df.shape[0]}\")"
   ]
  },
  {
   "cell_type": "code",
   "execution_count": 47,
   "metadata": {},
   "outputs": [
    {
     "name": "stdout",
     "output_type": "stream",
     "text": [
      "Prop of Train Examples with partial <direction(s)> tags in Fine-Tuned T5 1 Beam Output: 0.9924665856622115\n",
      "Prop of Train Examples with partial <direction(s)> tags in Fine-Tuned T5 2 Beam Output: 0.9924665856622115\n",
      "Prop of Train Examples with partial <direction(s)> tags in Fine-Tuned T5 3 Beam Output: 0.9924665856622115\n",
      "Prop of Train Examples with partial <direction(s)> tags in OOB T5 1 Beam Output: 0.0\n",
      "Prop of Train Examples with partial <direction(s)> tags in OOB T5 2 Beam Output: 0.0\n",
      "Prop of Train Examples with partial <direction(s)> tags in OOB T5 3 Beam Output: 0.0\n",
      "\n",
      "Prop of Test Examples with partial <direction(s)> tags in Fine-Tuned T5 1 Beam Output: 0.9883381924198251\n",
      "Prop of Test Examples with partial <direction(s)> tags in Fine-Tuned T5 2 Beam Output: 0.9883381924198251\n",
      "Prop of Test Examples with partial <direction(s)> tags in Fine-Tuned T5 3 Beam Output: 0.9883381924198251\n",
      "Prop of Test Examples with partial <direction(s)> tags in OOB T5 1 Beam Output: 0.0\n",
      "Prop of Test Examples with partial <direction(s)> tags in OOB T5 2 Beam Output: 0.0\n",
      "Prop of Test Examples with partial <direction(s)> tags in OOB T5 3 Beam Output: 0.0\n"
     ]
    }
   ],
   "source": [
    "print(f\"Prop of Train Examples with partial <direction(s)> tags in Fine-Tuned T5 1 Beam Output: {train_df['output_t5_b1'].str.contains(r'[<]?direction[s]?[>]?').sum() / train_df.shape[0]}\")\n",
    "print(f\"Prop of Train Examples with partial <direction(s)> tags in Fine-Tuned T5 2 Beam Output: {train_df['output_t5_b1'].str.contains(r'[<]?direction[s]?[>]?').sum() / train_df.shape[0]}\")\n",
    "print(f\"Prop of Train Examples with partial <direction(s)> tags in Fine-Tuned T5 3 Beam Output: {train_df['output_t5_b1'].str.contains(r'[<]?direction[s]?[>]?').sum() / train_df.shape[0]}\")\n",
    "\n",
    "print(f\"Prop of Train Examples with partial <direction(s)> tags in OOB T5 1 Beam Output: {train_df['output_t5_oob_b1'].str.contains(r'[<]?direction[s]?[>]?').sum() / train_df.shape[0]}\")\n",
    "print(f\"Prop of Train Examples with partial <direction(s)> tags in OOB T5 2 Beam Output: {train_df['output_t5_oob_b1'].str.contains(r'[<]?direction[s]?[>]?').sum() / train_df.shape[0]}\")\n",
    "print(f\"Prop of Train Examples with partial <direction(s)> tags in OOB T5 3 Beam Output: {train_df['output_t5_oob_b1'].str.contains(r'[<]?direction[s]?[>]?').sum() / train_df.shape[0]}\")\n",
    "\n",
    "print()\n",
    "\n",
    "print(f\"Prop of Test Examples with partial <direction(s)> tags in Fine-Tuned T5 1 Beam Output: {test_df['output_t5_b1'].str.contains(r'[<]?direction[s]?[>]?').sum() / test_df.shape[0]}\")\n",
    "print(f\"Prop of Test Examples with partial <direction(s)> tags in Fine-Tuned T5 2 Beam Output: {test_df['output_t5_b1'].str.contains(r'[<]?direction[s]?[>]?').sum() / test_df.shape[0]}\")\n",
    "print(f\"Prop of Test Examples with partial <direction(s)> tags in Fine-Tuned T5 3 Beam Output: {test_df['output_t5_b1'].str.contains(r'[<]?direction[s]?[>]?').sum() / test_df.shape[0]}\")\n",
    "\n",
    "print(f\"Prop of Test Examples with partial <direction(s)> tags in OOB T5 1 Beam Output: {test_df['output_t5_oob_b1'].str.contains(r'[<]?direction[s]?[>]?').sum() / test_df.shape[0]}\")\n",
    "print(f\"Prop of Test Examples with partial <direction(s)> tags in OOB T5 2 Beam Output: {test_df['output_t5_oob_b1'].str.contains(r'[<]?direction[s]?[>]?').sum() / test_df.shape[0]}\")\n",
    "print(f\"Prop of Test Examples with partial <direction(s)> tags in OOB T5 3 Beam Output: {test_df['output_t5_oob_b1'].str.contains(r'[<]?direction[s]?[>]?').sum() / test_df.shape[0]}\")"
   ]
  },
  {
   "cell_type": "markdown",
   "metadata": {},
   "source": [
    "## Ingredient Overlap"
   ]
  },
  {
   "cell_type": "markdown",
   "metadata": {},
   "source": [
    "Now, let's find the overlap ratio of ingredient names between inputs and outputs."
   ]
  },
  {
   "cell_type": "code",
   "execution_count": 72,
   "metadata": {},
   "outputs": [],
   "source": [
    "def parse_ingred_inp(inp, fully_tokenize=False):\n",
    "    inp = inp.split('<ingredients>')\n",
    "    ingreds = inp[1].split(', ')\n",
    "    ingreds = [i.split(' (')[0].lower() for i in ingreds]\n",
    "    if fully_tokenize:\n",
    "        return sum([i.split() for i in ingreds], [])\n",
    "    return ingreds\n",
    "\n",
    "def compute_ingred_overlap_ratio(inp, out, fully_tokenize_inp_ingreds=False):\n",
    "    if type(out) != str: return 0\n",
    "    ingreds = parse_ingred_inp(inp, fully_tokenize=fully_tokenize_inp_ingreds)\n",
    "    ingreds_set = set(ingreds)\n",
    "\n",
    "    out_cleaned = re.sub(r\"[,.;@#?!&$<>]+\\ *\", \" \", out).lower()\n",
    "    out_cleaned_token_set = set(out_cleaned.split())\n",
    "\n",
    "    return len(ingreds_set.intersection(out_cleaned_token_set)) / len(ingreds_set)"
   ]
  },
  {
   "cell_type": "code",
   "execution_count": 73,
   "metadata": {},
   "outputs": [
    {
     "name": "stdout",
     "output_type": "stream",
     "text": [
      "Train Avg. Ingredient Overlap Ratio for Fine-Tuned T5 1 Beam Output: 0.37889428918590523\n",
      "Train Avg. Ingredient Overlap Ratio for Fine-Tuned T5 2 Beams Output: 0.3844471445929526\n",
      "Train Avg. Ingredient Overlap Ratio for Fine-Tuned T5 3 Beams Output: 0.3840745240988254\n",
      "Train Avg. Ingredient Overlap Ratio for OOB T5 1 Beam Output: 0.3024746861077359\n",
      "Train Avg. Ingredient Overlap Ratio for OOB T5 2 Beams Output: 0.36879303361684895\n",
      "Train Avg. Ingredient Overlap Ratio for OOB T5 3 Beams Output: 0.3954718509518024\n",
      "Train Avg. Ingredient Overlap Ratio for GPT 3.5 Turbo Output: 0.44374645605508306\n"
     ]
    }
   ],
   "source": [
    "print(f\"Train Avg. Ingredient Overlap Ratio for Fine-Tuned T5 1 Beam Output: {train_df.apply(lambda x: compute_ingred_overlap_ratio(x['input'], x['output_t5_b1'], fully_tokenize_inp_ingreds=False), axis=1).mean()}\")\n",
    "print(f\"Train Avg. Ingredient Overlap Ratio for Fine-Tuned T5 2 Beams Output: {train_df.apply(lambda x: compute_ingred_overlap_ratio(x['input'], x['output_t5_b2'], fully_tokenize_inp_ingreds=False), axis=1).mean()}\")\n",
    "print(f\"Train Avg. Ingredient Overlap Ratio for Fine-Tuned T5 3 Beams Output: {train_df.apply(lambda x: compute_ingred_overlap_ratio(x['input'], x['output_t5_b3'], fully_tokenize_inp_ingreds=False), axis=1).mean()}\")\n",
    "print(f\"Train Avg. Ingredient Overlap Ratio for OOB T5 1 Beam Output: {train_df.apply(lambda x: compute_ingred_overlap_ratio(x['input'], x['output_t5_oob_b1'], fully_tokenize_inp_ingreds=False), axis=1).mean()}\")\n",
    "print(f\"Train Avg. Ingredient Overlap Ratio for OOB T5 2 Beams Output: {train_df.apply(lambda x: compute_ingred_overlap_ratio(x['input'], x['output_t5_oob_b2'], fully_tokenize_inp_ingreds=False), axis=1).mean()}\")\n",
    "print(f\"Train Avg. Ingredient Overlap Ratio for OOB T5 3 Beams Output: {train_df.apply(lambda x: compute_ingred_overlap_ratio(x['input'], x['output_t5_oob_b3'], fully_tokenize_inp_ingreds=False), axis=1).mean()}\")\n",
    "print(f\"Train Avg. Ingredient Overlap Ratio for GPT 3.5 Turbo Output: {train_df.apply(lambda x: compute_ingred_overlap_ratio(x['input'], x['output_gpt'], fully_tokenize_inp_ingreds=False), axis=1).mean()}\")\n"
   ]
  },
  {
   "cell_type": "markdown",
   "metadata": {},
   "source": [
    "Some input ingredients are very specific, for example \"baby red potatoes: vs. \"red potatoes\" vs. \"potatoes\". In this case, it may be better to full tokenize the ingredient names and then compute overlap between the reference ingredients and generated ingredients."
   ]
  },
  {
   "cell_type": "code",
   "execution_count": 74,
   "metadata": {},
   "outputs": [
    {
     "name": "stdout",
     "output_type": "stream",
     "text": [
      "Train Avg. Ingredient Overlap Ratio for Fine-Tuned T5 1 Beam Output: 0.8792292151617791\n",
      "Train Avg. Ingredient Overlap Ratio for Fine-Tuned T5 2 Beams Output: 0.8930176152320747\n",
      "Train Avg. Ingredient Overlap Ratio for Fine-Tuned T5 3 Beams Output: 0.8950335680924989\n",
      "Train Avg. Ingredient Overlap Ratio for OOB T5 1 Beam Output: 0.6993107823727508\n",
      "Train Avg. Ingredient Overlap Ratio for OOB T5 2 Beams Output: 0.8338215793926607\n",
      "Train Avg. Ingredient Overlap Ratio for OOB T5 3 Beams Output: 0.8889839821310052\n",
      "Train Avg. Ingredient Overlap Ratio for GPT 3.5 Turbo Output: 0.9534145991041496\n"
     ]
    }
   ],
   "source": [
    "print(f\"Train Avg. Ingredient Overlap Ratio for Fine-Tuned T5 1 Beam Output: {train_df.apply(lambda x: compute_ingred_overlap_ratio(x['input'], x['output_t5_b1'], fully_tokenize_inp_ingreds=True), axis=1).mean()}\")\n",
    "print(f\"Train Avg. Ingredient Overlap Ratio for Fine-Tuned T5 2 Beams Output: {train_df.apply(lambda x: compute_ingred_overlap_ratio(x['input'], x['output_t5_b2'], fully_tokenize_inp_ingreds=True), axis=1).mean()}\")\n",
    "print(f\"Train Avg. Ingredient Overlap Ratio for Fine-Tuned T5 3 Beams Output: {train_df.apply(lambda x: compute_ingred_overlap_ratio(x['input'], x['output_t5_b3'], fully_tokenize_inp_ingreds=True), axis=1).mean()}\")\n",
    "print(f\"Train Avg. Ingredient Overlap Ratio for OOB T5 1 Beam Output: {train_df.apply(lambda x: compute_ingred_overlap_ratio(x['input'], x['output_t5_oob_b1'], fully_tokenize_inp_ingreds=True), axis=1).mean()}\")\n",
    "print(f\"Train Avg. Ingredient Overlap Ratio for OOB T5 2 Beams Output: {train_df.apply(lambda x: compute_ingred_overlap_ratio(x['input'], x['output_t5_oob_b2'], fully_tokenize_inp_ingreds=True), axis=1).mean()}\")\n",
    "print(f\"Train Avg. Ingredient Overlap Ratio for OOB T5 3 Beams Output: {train_df.apply(lambda x: compute_ingred_overlap_ratio(x['input'], x['output_t5_oob_b3'], fully_tokenize_inp_ingreds=True), axis=1).mean()}\")\n",
    "print(f\"Train Avg. Ingredient Overlap Ratio for GPT 3.5 Turbo Output: {train_df.apply(lambda x: compute_ingred_overlap_ratio(x['input'], x['output_gpt'], fully_tokenize_inp_ingreds=True), axis=1).mean()}\")\n"
   ]
  }
 ],
 "metadata": {
  "kernelspec": {
   "display_name": "base",
   "language": "python",
   "name": "python3"
  },
  "language_info": {
   "codemirror_mode": {
    "name": "ipython",
    "version": 3
   },
   "file_extension": ".py",
   "mimetype": "text/x-python",
   "name": "python",
   "nbconvert_exporter": "python",
   "pygments_lexer": "ipython3",
   "version": "3.10.12"
  }
 },
 "nbformat": 4,
 "nbformat_minor": 2
}
