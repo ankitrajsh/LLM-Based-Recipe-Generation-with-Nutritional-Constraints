{
 "cells": [
  {
   "cell_type": "code",
   "execution_count": 7,
   "metadata": {},
   "outputs": [],
   "source": [
    "from transformers import T5Tokenizer, T5ForConditionalGeneration\n",
    "import torch\n",
    "from google.cloud import storage\n",
    "from io import StringIO\n",
    "import pandas as pd\n",
    "from ipywidgets import interact, interactive, fixed, interact_manual\n",
    "import ipywidgets as widgets\n",
    "\n",
    "def get_df_from_gcs_blob(blob, bucket='recipe-data-bucket'):\n",
    "    # START: COPIED FROM https://github.com/googleapis/python-storage/blob/HEAD/samples/snippets/storage_fileio_write_read.py\n",
    "    storage_client = storage.Client()\n",
    "    bucket = storage_client.get_bucket(bucket)\n",
    "\n",
    "    blob = bucket.blob(blob)\n",
    "    blob = blob.download_as_string()\n",
    "    blob = blob.decode()\n",
    "    blob = StringIO(blob)  #tranform bytes to string here\n",
    "    df = pd.read_csv(blob)\n",
    "    return df\n",
    "    # END: COPIED FROM https://github.com/googleapis/python-storage/blob/HEAD/samples/snippets/storage_fileio_write_read.py"
   ]
  },
  {
   "cell_type": "markdown",
   "metadata": {},
   "source": [
    "Demo to view results on train/test data."
   ]
  },
  {
   "cell_type": "code",
   "execution_count": 9,
   "metadata": {},
   "outputs": [
    {
     "data": {
      "application/vnd.jupyter.widget-view+json": {
       "model_id": "af2167189e5246de9b68ca4923cf5f4c",
       "version_major": 2,
       "version_minor": 0
      },
      "text/plain": [
       "interactive(children=(Text(value='', description='MOD PATH:', placeholder='Enter local path to model and token…"
      ]
     },
     "metadata": {},
     "output_type": "display_data"
    }
   ],
   "source": [
    "# CODE NOT COPIED BUT INSPIRED FROM IPYWIDGETS DOCUMENTATION\n",
    "mod_path_w = widgets.Text(\n",
    "            value=None,\n",
    "            placeholder='Enter local path to model and tokenizer.',\n",
    "            description='MOD PATH:',\n",
    "            disabled=False   \n",
    "          )\n",
    "\n",
    "df_path_w = widgets.Dropdown(\n",
    "            options=['train_only_cal.csv', 'test_only_cal.csv', 'train.csv', 'test.csv', 'train_all_nutrition.csv', 'test_all_nutrition.csv', 'train_only_cal_final_results.csv', 'test_only_cal_final_results.csv'],\n",
    "            value='train_only_cal_final_results.csv',\n",
    "            description='DATA PATH:',\n",
    "          )\n",
    "\n",
    "device_w = widgets.Dropdown(\n",
    "            options=['cuda', 'cpu'],\n",
    "            value='cpu',\n",
    "            description='DEVICE:',\n",
    "          )\n",
    "\n",
    "i_w = widgets.IntSlider(\n",
    "      value=0,\n",
    "      min=0,\n",
    "      max=10,\n",
    "      step=1,\n",
    "      description='DATA INDEX:',\n",
    "      disabled=False,\n",
    "      continuous_update=False,\n",
    "      orientation='horizontal',\n",
    "      readout=True,\n",
    "      readout_format='d'\n",
    "    )\n",
    "\n",
    "num_beams_w = widgets.IntSlider(\n",
    "      value=1,\n",
    "      min=0,\n",
    "      max=5,\n",
    "      step=1,\n",
    "      description='# BEAMS:',\n",
    "      disabled=False,\n",
    "      continuous_update=False,\n",
    "      orientation='horizontal',\n",
    "      readout=True,\n",
    "      readout_format='d'\n",
    "    )\n",
    "\n",
    "@interact(mod_path=mod_path_w, df_path=df_path_w, i=i_w, num_beams=num_beams_w, device=device_w)\n",
    "def run_inference(mod_path, df_path, i, num_beams, device):\n",
    "    DEVICE = device\n",
    "    MOD_PATH = mod_path\n",
    "    \n",
    "    df = get_df_from_gcs_blob(df_path)\n",
    "    i_w.max = df.shape[0] - 1\n",
    "    \n",
    "    if MOD_PATH and len(df.columns) == 2:\n",
    "      base_model = T5ForConditionalGeneration.from_pretrained('t5-small').to(DEVICE)\n",
    "      model = T5ForConditionalGeneration.from_pretrained(MOD_PATH).to(DEVICE)\n",
    "      tokenizer = T5Tokenizer.from_pretrained(MOD_PATH)\n",
    "\n",
    "      inp = df.iloc[i]['input']\n",
    "      target = df.iloc[i]['output']\n",
    "      input_ids = tokenizer(inp, return_tensors=\"pt\").input_ids.to(DEVICE)\n",
    "      outputs = model.generate(input_ids, max_length=df['output'].map(len).max(), num_beams=num_beams)\n",
    "      base_outputs = base_model.generate(input_ids, max_length=df['output'].map(len).max(), num_beams=num_beams)\n",
    "      out = tokenizer.decode(outputs[0], skip_special_tokens=True)\n",
    "      base_out = tokenizer.decode(base_outputs[0], skip_special_tokens=True)\n",
    "      with pd.option_context('display.max_colwidth', None):\n",
    "        display(pd.Series({'Input': inp, 'Target': target, 'T5 Fine-Tuned Generation': out, 'T5 OOB Generation': base_out}).to_frame().rename(columns={0: 'Example'}))\n",
    "    \n",
    "    else:\n",
    "       with pd.option_context('display.max_colwidth', None):\n",
    "        display(pd.Series({'Input': df.iloc[i]['input'], 'Target': df.iloc[i]['output_gt'], 'T5 Fine-Tuned Generation': df.iloc[i][f'output_t5_b{num_beams}'], 'T5 OOB Generation': df.iloc[i][f'output_t5_oob_b{num_beams}'], 'GPT Generation': df.iloc[i]['output_gpt']}).to_frame().rename(columns={0: 'Example'}))\n",
    "    "
   ]
  },
  {
   "cell_type": "markdown",
   "metadata": {},
   "source": [
    "Demo for custom input."
   ]
  },
  {
   "cell_type": "code",
   "execution_count": 6,
   "metadata": {},
   "outputs": [
    {
     "data": {
      "application/vnd.jupyter.widget-view+json": {
       "model_id": "7f38cd131bab430b8c940aa9cdb35a87",
       "version_major": 2,
       "version_minor": 0
      },
      "text/plain": [
       "interactive(children=(Text(value='', description='MOD PATH:', placeholder='Enter local path to model and token…"
      ]
     },
     "metadata": {},
     "output_type": "display_data"
    }
   ],
   "source": [
    "input_w = widgets.Text(\n",
    "            value=None,\n",
    "            placeholder='Enter input here.',\n",
    "            description='INPUT:',\n",
    "            disabled=False   \n",
    "          )\n",
    "\n",
    "mod_path_w = widgets.Text(\n",
    "            value=None,\n",
    "            placeholder='Enter local path to model and tokenizer.',\n",
    "            description='MOD PATH:',\n",
    "            disabled=False   \n",
    "          )\n",
    "\n",
    "device_w = widgets.Dropdown(\n",
    "            options=['cuda', 'cpu'],\n",
    "            value='cpu',\n",
    "            description='DEVICE:',\n",
    "          )\n",
    "\n",
    "\n",
    "num_beams_w = widgets.IntSlider(\n",
    "      value=1,\n",
    "      min=0,\n",
    "      max=5,\n",
    "      step=1,\n",
    "      description='# BEAMS:',\n",
    "      disabled=False,\n",
    "      continuous_update=False,\n",
    "      orientation='horizontal',\n",
    "      readout=True,\n",
    "      readout_format='d'\n",
    "    )\n",
    "\n",
    "max_len_w = widgets.IntSlider(\n",
    "      value=20,\n",
    "      min=1,\n",
    "      max=200,\n",
    "      step=1,\n",
    "      description='MAX LEN:',\n",
    "      disabled=False,\n",
    "      continuous_update=False,\n",
    "      orientation='horizontal',\n",
    "      readout=True,\n",
    "      readout_format='d'\n",
    "    )\n",
    "\n",
    "@interact(mod_path=mod_path_w, inp=input_w, num_beams=num_beams_w, device=device_w, max_len=max_len_w)\n",
    "def run_inference(mod_path, inp, num_beams, device, max_len):\n",
    "    DEVICE = device\n",
    "    MOD_PATH = mod_path\n",
    "    \n",
    "    if MOD_PATH and inp:\n",
    "      base_model = T5ForConditionalGeneration.from_pretrained('t5-small').to(DEVICE)\n",
    "      model = T5ForConditionalGeneration.from_pretrained(MOD_PATH).to(DEVICE)\n",
    "      tokenizer = T5Tokenizer.from_pretrained(MOD_PATH)\n",
    "\n",
    "      input_ids = tokenizer(inp, return_tensors=\"pt\").input_ids.to(DEVICE)\n",
    "      outputs = model.generate(input_ids, max_length=max_len, num_beams=num_beams)\n",
    "      base_outputs = base_model.generate(input_ids, max_length=max_len, num_beams=num_beams)\n",
    "      out = tokenizer.decode(outputs[0], skip_special_tokens=True)\n",
    "      base_out = tokenizer.decode(base_outputs[0], skip_special_tokens=True)\n",
    "      with pd.option_context('display.max_colwidth', None):\n",
    "        display(pd.Series({'Input': inp, 'T5 Fine-Tuned Generation': out, 'T5 OOB Generation': base_out}).to_frame().rename(columns={0: 'Example'}))"
   ]
  }
 ],
 "metadata": {
  "kernelspec": {
   "display_name": "base",
   "language": "python",
   "name": "python3"
  },
  "language_info": {
   "codemirror_mode": {
    "name": "ipython",
    "version": 3
   },
   "file_extension": ".py",
   "mimetype": "text/x-python",
   "name": "python",
   "nbconvert_exporter": "python",
   "pygments_lexer": "ipython3",
   "version": "3.10.12"
  },
  "orig_nbformat": 4
 },
 "nbformat": 4,
 "nbformat_minor": 2
}
